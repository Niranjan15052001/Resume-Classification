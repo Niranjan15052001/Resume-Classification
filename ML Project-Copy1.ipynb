{
 "cells": [
  {
   "cell_type": "code",
   "execution_count": 2,
   "metadata": {},
   "outputs": [],
   "source": [
    "import pandas as pd\n",
    "import numpy as np\n",
    "import matplotlib.pyplot as plt"
   ]
  },
  {
   "cell_type": "code",
   "execution_count": 3,
   "metadata": {},
   "outputs": [],
   "source": [
    "df=pd.read_csv('Resume.csv')"
   ]
  },
  {
   "cell_type": "code",
   "execution_count": 4,
   "metadata": {},
   "outputs": [
    {
     "data": {
      "text/html": [
       "<div>\n",
       "<style scoped>\n",
       "    .dataframe tbody tr th:only-of-type {\n",
       "        vertical-align: middle;\n",
       "    }\n",
       "\n",
       "    .dataframe tbody tr th {\n",
       "        vertical-align: top;\n",
       "    }\n",
       "\n",
       "    .dataframe thead th {\n",
       "        text-align: right;\n",
       "    }\n",
       "</style>\n",
       "<table border=\"1\" class=\"dataframe\">\n",
       "  <thead>\n",
       "    <tr style=\"text-align: right;\">\n",
       "      <th></th>\n",
       "      <th>Category</th>\n",
       "      <th>Resume</th>\n",
       "    </tr>\n",
       "  </thead>\n",
       "  <tbody>\n",
       "    <tr>\n",
       "      <th>0</th>\n",
       "      <td>Data Science</td>\n",
       "      <td>Skills * Programming Languages: Python (pandas...</td>\n",
       "    </tr>\n",
       "    <tr>\n",
       "      <th>1</th>\n",
       "      <td>Data Science</td>\n",
       "      <td>Education Details \\r\\nMay 2013 to May 2017 B.E...</td>\n",
       "    </tr>\n",
       "    <tr>\n",
       "      <th>2</th>\n",
       "      <td>Data Science</td>\n",
       "      <td>Areas of Interest Deep Learning, Control Syste...</td>\n",
       "    </tr>\n",
       "    <tr>\n",
       "      <th>3</th>\n",
       "      <td>Data Science</td>\n",
       "      <td>Skills â¢ R â¢ Python â¢ SAP HANA â¢ Table...</td>\n",
       "    </tr>\n",
       "    <tr>\n",
       "      <th>4</th>\n",
       "      <td>Data Science</td>\n",
       "      <td>Education Details \\r\\n MCA   YMCAUST,  Faridab...</td>\n",
       "    </tr>\n",
       "    <tr>\n",
       "      <th>...</th>\n",
       "      <td>...</td>\n",
       "      <td>...</td>\n",
       "    </tr>\n",
       "    <tr>\n",
       "      <th>957</th>\n",
       "      <td>Testing</td>\n",
       "      <td>Computer Skills: â¢ Proficient in MS office (...</td>\n",
       "    </tr>\n",
       "    <tr>\n",
       "      <th>958</th>\n",
       "      <td>Testing</td>\n",
       "      <td>â Willingness to accept the challenges. â ...</td>\n",
       "    </tr>\n",
       "    <tr>\n",
       "      <th>959</th>\n",
       "      <td>Testing</td>\n",
       "      <td>PERSONAL SKILLS â¢ Quick learner, â¢ Eagerne...</td>\n",
       "    </tr>\n",
       "    <tr>\n",
       "      <th>960</th>\n",
       "      <td>Testing</td>\n",
       "      <td>COMPUTER SKILLS &amp; SOFTWARE KNOWLEDGE MS-Power ...</td>\n",
       "    </tr>\n",
       "    <tr>\n",
       "      <th>961</th>\n",
       "      <td>Testing</td>\n",
       "      <td>Skill Set OS Windows XP/7/8/8.1/10 Database MY...</td>\n",
       "    </tr>\n",
       "  </tbody>\n",
       "</table>\n",
       "<p>962 rows × 2 columns</p>\n",
       "</div>"
      ],
      "text/plain": [
       "         Category                                             Resume\n",
       "0    Data Science  Skills * Programming Languages: Python (pandas...\n",
       "1    Data Science  Education Details \\r\\nMay 2013 to May 2017 B.E...\n",
       "2    Data Science  Areas of Interest Deep Learning, Control Syste...\n",
       "3    Data Science  Skills â¢ R â¢ Python â¢ SAP HANA â¢ Table...\n",
       "4    Data Science  Education Details \\r\\n MCA   YMCAUST,  Faridab...\n",
       "..            ...                                                ...\n",
       "957       Testing  Computer Skills: â¢ Proficient in MS office (...\n",
       "958       Testing  â Willingness to accept the challenges. â ...\n",
       "959       Testing  PERSONAL SKILLS â¢ Quick learner, â¢ Eagerne...\n",
       "960       Testing  COMPUTER SKILLS & SOFTWARE KNOWLEDGE MS-Power ...\n",
       "961       Testing  Skill Set OS Windows XP/7/8/8.1/10 Database MY...\n",
       "\n",
       "[962 rows x 2 columns]"
      ]
     },
     "execution_count": 4,
     "metadata": {},
     "output_type": "execute_result"
    }
   ],
   "source": [
    "df"
   ]
  },
  {
   "cell_type": "code",
   "execution_count": 5,
   "metadata": {},
   "outputs": [
    {
     "data": {
      "text/plain": [
       "0      Skills * Programming Languages: Python (pandas...\n",
       "1      Education Details \\r\\nMay 2013 to May 2017 B.E...\n",
       "2      Areas of Interest Deep Learning, Control Syste...\n",
       "3      Skills â¢ R â¢ Python â¢ SAP HANA â¢ Table...\n",
       "4      Education Details \\r\\n MCA   YMCAUST,  Faridab...\n",
       "                             ...                        \n",
       "957    Computer Skills: â¢ Proficient in MS office (...\n",
       "958    â Willingness to accept the challenges. â ...\n",
       "959    PERSONAL SKILLS â¢ Quick learner, â¢ Eagerne...\n",
       "960    COMPUTER SKILLS & SOFTWARE KNOWLEDGE MS-Power ...\n",
       "961    Skill Set OS Windows XP/7/8/8.1/10 Database MY...\n",
       "Name: Resume, Length: 962, dtype: object"
      ]
     },
     "execution_count": 5,
     "metadata": {},
     "output_type": "execute_result"
    }
   ],
   "source": [
    "df['Resume']"
   ]
  },
  {
   "cell_type": "code",
   "execution_count": 6,
   "metadata": {},
   "outputs": [
    {
     "data": {
      "text/plain": [
       "Category    0\n",
       "Resume      0\n",
       "dtype: int64"
      ]
     },
     "execution_count": 6,
     "metadata": {},
     "output_type": "execute_result"
    }
   ],
   "source": [
    "df.isna().sum()"
   ]
  },
  {
   "cell_type": "code",
   "execution_count": null,
   "metadata": {},
   "outputs": [],
   "source": []
  },
  {
   "cell_type": "code",
   "execution_count": 7,
   "metadata": {},
   "outputs": [],
   "source": [
    "k=df['Category'].value_counts()"
   ]
  },
  {
   "cell_type": "code",
   "execution_count": 8,
   "metadata": {},
   "outputs": [
    {
     "data": {
      "text/plain": [
       "Index(['Java Developer', 'Testing', 'DevOps Engineer', 'Python Developer',\n",
       "       'Web Designing', 'HR', 'Hadoop', 'Mechanical Engineer', 'ETL Developer',\n",
       "       'Sales', 'Blockchain', 'Operations Manager', 'Data Science', 'Arts',\n",
       "       'Database', 'Health and fitness', 'PMO', 'Electrical Engineering',\n",
       "       'DotNet Developer', 'Business Analyst', 'Automation Testing',\n",
       "       'Network Security Engineer', 'SAP Developer', 'Civil Engineer',\n",
       "       'Advocate'],\n",
       "      dtype='object')"
      ]
     },
     "execution_count": 8,
     "metadata": {},
     "output_type": "execute_result"
    }
   ],
   "source": [
    "k.index"
   ]
  },
  {
   "cell_type": "code",
   "execution_count": 9,
   "metadata": {},
   "outputs": [],
   "source": [
    "values=k.index"
   ]
  },
  {
   "cell_type": "code",
   "execution_count": 10,
   "metadata": {},
   "outputs": [],
   "source": [
    "counts=k.values"
   ]
  },
  {
   "cell_type": "code",
   "execution_count": 11,
   "metadata": {},
   "outputs": [
    {
     "data": {
      "text/plain": [
       "array([84, 70, 55, 48, 45, 44, 42, 40, 40, 40, 40, 40, 40, 36, 33, 30, 30,\n",
       "       30, 28, 28, 26, 25, 24, 24, 20], dtype=int64)"
      ]
     },
     "execution_count": 11,
     "metadata": {},
     "output_type": "execute_result"
    }
   ],
   "source": [
    "counts"
   ]
  },
  {
   "cell_type": "code",
   "execution_count": 12,
   "metadata": {},
   "outputs": [
    {
     "data": {
      "image/png": "[encoded data removed]",
      "text/plain": [
       "<Figure size 1152x648 with 1 Axes>"
      ]
     },
     "metadata": {
      "needs_background": "light"
     },
     "output_type": "display_data"
    }
   ],
   "source": [
    "fig, ax = plt.subplots(figsize =(16, 9))\n",
    "ax.barh(values, counts)\n",
    "for s in ['top', 'bottom', 'left', 'right']:\n",
    "    ax.spines[s].set_visible(False)\n",
    "ax.xaxis.set_ticks_position('none')\n",
    "ax.yaxis.set_ticks_position('none')\n",
    "ax.xaxis.set_tick_params(pad = 5)\n",
    "ax.yaxis.set_tick_params(pad = 10)\n",
    "ax.invert_yaxis()\n",
    "for i in ax.patches:\n",
    "    plt.text(i.get_width()+0.2, i.get_y()+0.5,\n",
    "             str(round((i.get_width()), 2)),\n",
    "             fontsize = 10, fontweight ='bold',\n",
    "             color ='grey')\n",
    "fig.text(0.9, 0.15, 'Niranjan', fontsize = 12,\n",
    "         color ='grey', ha ='right', va ='bottom',\n",
    "         alpha = 0.7)\n",
    "plt.show()"
   ]
  },
  {
   "cell_type": "code",
   "execution_count": 13,
   "metadata": {},
   "outputs": [],
   "source": [
    "import nltk\n"
   ]
  },
  {
   "cell_type": "code",
   "execution_count": 14,
   "metadata": {},
   "outputs": [],
   "source": [
    "from nltk.corpus import stopwords"
   ]
  },
  {
   "cell_type": "code",
   "execution_count": 15,
   "metadata": {},
   "outputs": [],
   "source": [
    "#from wordcloud import WordCloud"
   ]
  },
  {
   "cell_type": "code",
   "execution_count": 16,
   "metadata": {},
   "outputs": [],
   "source": [
    "df['cleaned_text']=''"
   ]
  },
  {
   "cell_type": "code",
   "execution_count": 17,
   "metadata": {},
   "outputs": [
    {
     "data": {
      "text/html": [
       "<div>\n",
       "<style scoped>\n",
       "    .dataframe tbody tr th:only-of-type {\n",
       "        vertical-align: middle;\n",
       "    }\n",
       "\n",
       "    .dataframe tbody tr th {\n",
       "        vertical-align: top;\n",
       "    }\n",
       "\n",
       "    .dataframe thead th {\n",
       "        text-align: right;\n",
       "    }\n",
       "</style>\n",
       "<table border=\"1\" class=\"dataframe\">\n",
       "  <thead>\n",
       "    <tr style=\"text-align: right;\">\n",
       "      <th></th>\n",
       "      <th>Category</th>\n",
       "      <th>Resume</th>\n",
       "      <th>cleaned_text</th>\n",
       "    </tr>\n",
       "  </thead>\n",
       "  <tbody>\n",
       "    <tr>\n",
       "      <th>0</th>\n",
       "      <td>Data Science</td>\n",
       "      <td>Skills * Programming Languages: Python (pandas...</td>\n",
       "      <td></td>\n",
       "    </tr>\n",
       "    <tr>\n",
       "      <th>1</th>\n",
       "      <td>Data Science</td>\n",
       "      <td>Education Details \\r\\nMay 2013 to May 2017 B.E...</td>\n",
       "      <td></td>\n",
       "    </tr>\n",
       "    <tr>\n",
       "      <th>2</th>\n",
       "      <td>Data Science</td>\n",
       "      <td>Areas of Interest Deep Learning, Control Syste...</td>\n",
       "      <td></td>\n",
       "    </tr>\n",
       "    <tr>\n",
       "      <th>3</th>\n",
       "      <td>Data Science</td>\n",
       "      <td>Skills â¢ R â¢ Python â¢ SAP HANA â¢ Table...</td>\n",
       "      <td></td>\n",
       "    </tr>\n",
       "    <tr>\n",
       "      <th>4</th>\n",
       "      <td>Data Science</td>\n",
       "      <td>Education Details \\r\\n MCA   YMCAUST,  Faridab...</td>\n",
       "      <td></td>\n",
       "    </tr>\n",
       "    <tr>\n",
       "      <th>...</th>\n",
       "      <td>...</td>\n",
       "      <td>...</td>\n",
       "      <td>...</td>\n",
       "    </tr>\n",
       "    <tr>\n",
       "      <th>957</th>\n",
       "      <td>Testing</td>\n",
       "      <td>Computer Skills: â¢ Proficient in MS office (...</td>\n",
       "      <td></td>\n",
       "    </tr>\n",
       "    <tr>\n",
       "      <th>958</th>\n",
       "      <td>Testing</td>\n",
       "      <td>â Willingness to accept the challenges. â ...</td>\n",
       "      <td></td>\n",
       "    </tr>\n",
       "    <tr>\n",
       "      <th>959</th>\n",
       "      <td>Testing</td>\n",
       "      <td>PERSONAL SKILLS â¢ Quick learner, â¢ Eagerne...</td>\n",
       "      <td></td>\n",
       "    </tr>\n",
       "    <tr>\n",
       "      <th>960</th>\n",
       "      <td>Testing</td>\n",
       "      <td>COMPUTER SKILLS &amp; SOFTWARE KNOWLEDGE MS-Power ...</td>\n",
       "      <td></td>\n",
       "    </tr>\n",
       "    <tr>\n",
       "      <th>961</th>\n",
       "      <td>Testing</td>\n",
       "      <td>Skill Set OS Windows XP/7/8/8.1/10 Database MY...</td>\n",
       "      <td></td>\n",
       "    </tr>\n",
       "  </tbody>\n",
       "</table>\n",
       "<p>962 rows × 3 columns</p>\n",
       "</div>"
      ],
      "text/plain": [
       "         Category                                             Resume  \\\n",
       "0    Data Science  Skills * Programming Languages: Python (pandas...   \n",
       "1    Data Science  Education Details \\r\\nMay 2013 to May 2017 B.E...   \n",
       "2    Data Science  Areas of Interest Deep Learning, Control Syste...   \n",
       "3    Data Science  Skills â¢ R â¢ Python â¢ SAP HANA â¢ Table...   \n",
       "4    Data Science  Education Details \\r\\n MCA   YMCAUST,  Faridab...   \n",
       "..            ...                                                ...   \n",
       "957       Testing  Computer Skills: â¢ Proficient in MS office (...   \n",
       "958       Testing  â Willingness to accept the challenges. â ...   \n",
       "959       Testing  PERSONAL SKILLS â¢ Quick learner, â¢ Eagerne...   \n",
       "960       Testing  COMPUTER SKILLS & SOFTWARE KNOWLEDGE MS-Power ...   \n",
       "961       Testing  Skill Set OS Windows XP/7/8/8.1/10 Database MY...   \n",
       "\n",
       "    cleaned_text  \n",
       "0                 \n",
       "1                 \n",
       "2                 \n",
       "3                 \n",
       "4                 \n",
       "..           ...  \n",
       "957               \n",
       "958               \n",
       "959               \n",
       "960               \n",
       "961               \n",
       "\n",
       "[962 rows x 3 columns]"
      ]
     },
     "execution_count": 17,
     "metadata": {},
     "output_type": "execute_result"
    }
   ],
   "source": [
    "df"
   ]
  },
  {
   "cell_type": "code",
   "execution_count": 18,
   "metadata": {},
   "outputs": [],
   "source": [
    "import re"
   ]
  },
  {
   "cell_type": "code",
   "execution_count": 19,
   "metadata": {},
   "outputs": [],
   "source": [
    "##clean th resume\n",
    "##remove tags special non essential charecters\n",
    "\n",
    "def clean(resume):\n",
    "    resume=re.sub('httpS+s*',' ',resume)\n",
    "    resume=re.sub('RT|cc',' ',resume)\n",
    "    resume=re.sub('#S+',' ',resume)\n",
    "    resume=re.sub('@S+','  ',resume)\n",
    "    resume=re.sub('[%s]' % re.escape(\"\"\"!\"#$%&'()*+,-./:;<=>?@[]^_`{|}~\"\"\"), ' ', resume)\n",
    "    resume=re.sub(r'[^x00-x7f]',r' ', resume)\n",
    "    resume=re.sub('s+',' ',resume)\n",
    "    resume=resume.lower()\n",
    "    return resume\n",
    "\n",
    "    \n",
    "    \n",
    "    "
   ]
  },
  {
   "cell_type": "code",
   "execution_count": 20,
   "metadata": {},
   "outputs": [],
   "source": [
    "df['cleaned_text']=df['Resume'].apply(lambda x: clean(x))"
   ]
  },
  {
   "cell_type": "code",
   "execution_count": 21,
   "metadata": {},
   "outputs": [
    {
     "data": {
      "text/html": [
       "<div>\n",
       "<style scoped>\n",
       "    .dataframe tbody tr th:only-of-type {\n",
       "        vertical-align: middle;\n",
       "    }\n",
       "\n",
       "    .dataframe tbody tr th {\n",
       "        vertical-align: top;\n",
       "    }\n",
       "\n",
       "    .dataframe thead th {\n",
       "        text-align: right;\n",
       "    }\n",
       "</style>\n",
       "<table border=\"1\" class=\"dataframe\">\n",
       "  <thead>\n",
       "    <tr style=\"text-align: right;\">\n",
       "      <th></th>\n",
       "      <th>Category</th>\n",
       "      <th>Resume</th>\n",
       "      <th>cleaned_text</th>\n",
       "    </tr>\n",
       "  </thead>\n",
       "  <tbody>\n",
       "    <tr>\n",
       "      <th>0</th>\n",
       "      <td>Data Science</td>\n",
       "      <td>Skills * Programming Languages: Python (pandas...</td>\n",
       "      <td>skill    programming language   p thon  panda ...</td>\n",
       "    </tr>\n",
       "    <tr>\n",
       "      <th>1</th>\n",
       "      <td>Data Science</td>\n",
       "      <td>Education Details \\r\\nMay 2013 to May 2017 B.E...</td>\n",
       "      <td>education detail    ma  2013 to ma  2017 b e  ...</td>\n",
       "    </tr>\n",
       "    <tr>\n",
       "      <th>2</th>\n",
       "      <td>Data Science</td>\n",
       "      <td>Areas of Interest Deep Learning, Control Syste...</td>\n",
       "      <td>area  of intere t deep learning  control s  te...</td>\n",
       "    </tr>\n",
       "    <tr>\n",
       "      <th>3</th>\n",
       "      <td>Data Science</td>\n",
       "      <td>Skills â¢ R â¢ Python â¢ SAP HANA â¢ Table...</td>\n",
       "      <td>skill      r     p thon     sap hana     table...</td>\n",
       "    </tr>\n",
       "    <tr>\n",
       "      <th>4</th>\n",
       "      <td>Data Science</td>\n",
       "      <td>Education Details \\r\\n MCA   YMCAUST,  Faridab...</td>\n",
       "      <td>education detail     mca   ymcaust   faridabad...</td>\n",
       "    </tr>\n",
       "    <tr>\n",
       "      <th>...</th>\n",
       "      <td>...</td>\n",
       "      <td>...</td>\n",
       "      <td>...</td>\n",
       "    </tr>\n",
       "    <tr>\n",
       "      <th>957</th>\n",
       "      <td>Testing</td>\n",
       "      <td>Computer Skills: â¢ Proficient in MS office (...</td>\n",
       "      <td>computer skill       proficient in ms office  ...</td>\n",
       "    </tr>\n",
       "    <tr>\n",
       "      <th>958</th>\n",
       "      <td>Testing</td>\n",
       "      <td>â Willingness to accept the challenges. â ...</td>\n",
       "      <td>willingne  to a ept the challenge       po...</td>\n",
       "    </tr>\n",
       "    <tr>\n",
       "      <th>959</th>\n",
       "      <td>Testing</td>\n",
       "      <td>PERSONAL SKILLS â¢ Quick learner, â¢ Eagerne...</td>\n",
       "      <td>personal skills     quick learner      eagerne...</td>\n",
       "    </tr>\n",
       "    <tr>\n",
       "      <th>960</th>\n",
       "      <td>Testing</td>\n",
       "      <td>COMPUTER SKILLS &amp; SOFTWARE KNOWLEDGE MS-Power ...</td>\n",
       "      <td>computer skills   software knowledge ms power ...</td>\n",
       "    </tr>\n",
       "    <tr>\n",
       "      <th>961</th>\n",
       "      <td>Testing</td>\n",
       "      <td>Skill Set OS Windows XP/7/8/8.1/10 Database MY...</td>\n",
       "      <td>skill set os window  xp 7 8 8 1 10 databa e my...</td>\n",
       "    </tr>\n",
       "  </tbody>\n",
       "</table>\n",
       "<p>962 rows × 3 columns</p>\n",
       "</div>"
      ],
      "text/plain": [
       "         Category                                             Resume  \\\n",
       "0    Data Science  Skills * Programming Languages: Python (pandas...   \n",
       "1    Data Science  Education Details \\r\\nMay 2013 to May 2017 B.E...   \n",
       "2    Data Science  Areas of Interest Deep Learning, Control Syste...   \n",
       "3    Data Science  Skills â¢ R â¢ Python â¢ SAP HANA â¢ Table...   \n",
       "4    Data Science  Education Details \\r\\n MCA   YMCAUST,  Faridab...   \n",
       "..            ...                                                ...   \n",
       "957       Testing  Computer Skills: â¢ Proficient in MS office (...   \n",
       "958       Testing  â Willingness to accept the challenges. â ...   \n",
       "959       Testing  PERSONAL SKILLS â¢ Quick learner, â¢ Eagerne...   \n",
       "960       Testing  COMPUTER SKILLS & SOFTWARE KNOWLEDGE MS-Power ...   \n",
       "961       Testing  Skill Set OS Windows XP/7/8/8.1/10 Database MY...   \n",
       "\n",
       "                                          cleaned_text  \n",
       "0    skill    programming language   p thon  panda ...  \n",
       "1    education detail    ma  2013 to ma  2017 b e  ...  \n",
       "2    area  of intere t deep learning  control s  te...  \n",
       "3    skill      r     p thon     sap hana     table...  \n",
       "4    education detail     mca   ymcaust   faridabad...  \n",
       "..                                                 ...  \n",
       "957  computer skill       proficient in ms office  ...  \n",
       "958      willingne  to a ept the challenge       po...  \n",
       "959  personal skills     quick learner      eagerne...  \n",
       "960  computer skills   software knowledge ms power ...  \n",
       "961  skill set os window  xp 7 8 8 1 10 databa e my...  \n",
       "\n",
       "[962 rows x 3 columns]"
      ]
     },
     "execution_count": 21,
     "metadata": {},
     "output_type": "execute_result"
    }
   ],
   "source": [
    "df"
   ]
  },
  {
   "cell_type": "code",
   "execution_count": 22,
   "metadata": {},
   "outputs": [
    {
     "data": {
      "text/plain": [
       "962"
      ]
     },
     "execution_count": 22,
     "metadata": {},
     "output_type": "execute_result"
    }
   ],
   "source": [
    "len(df)"
   ]
  },
  {
   "cell_type": "code",
   "execution_count": 23,
   "metadata": {},
   "outputs": [],
   "source": [
    "corpus=\" \"\n",
    "for i in range(0,962):\n",
    "    corpus= corpus+ df[\"cleaned_text\"][i]"
   ]
  },
  {
   "cell_type": "code",
   "execution_count": 24,
   "metadata": {},
   "outputs": [
    {
     "data": {
      "text/plain": [
       "'urance  technology assisted review  tar  technolog  a i ted review  a i t  in a elerating the review proce  and run anal tic  and generate report      core member of a team helped in developing automated review platform tool from  cratch for a i ting e di cover  domain  thi  tool implement  predictive coding and topic modelling b  automating review   re ulting in reduced labor co t  and time  pent during the law er  review     under tand the end to end flow of the  olution  doing re earch and development for cla ification model   predictive anal  i  and mining of the information pre ent in text data  worked on anal  ing the output  and preci ion monitoring for the entire tool     tar a i t  in predictive coding  topic modelling from the evidence b  following ey  tandard   developed the cla ifier model  in order to identif   red flag   and fraud related i ue      tool    technologie   p thon   cikit learn  tfidf  word2vec  doc2vec  co ine  imilarit   na  ve ba e   lda  nmf for topic modelling  vader and text blob for  entiment anal  i   matplot lib  tableau da hboard for reporting     multiple data science and analytic projects  usa clients   text analytics   motor vehicle customer review data   received cu tomer feedback  urve  data for pa t one  ear  performed  entiment  po itive  negative   neutral  and time  erie  anal  i  on cu tomer comment  acro  all 4 categorie      created heat map of term  b   urve  categor  ba ed on frequenc  of word    extracted po itive and negati'"
      ]
     },
     "execution_count": 24,
     "metadata": {},
     "output_type": "execute_result"
    }
   ],
   "source": [
    "corpus[1000:2500]"
   ]
  },
  {
   "cell_type": "code",
   "execution_count": 25,
   "metadata": {},
   "outputs": [],
   "source": [
    "from sklearn.preprocessing import LabelEncoder"
   ]
  },
  {
   "cell_type": "code",
   "execution_count": 26,
   "metadata": {},
   "outputs": [],
   "source": [
    "le=LabelEncoder()"
   ]
  },
  {
   "cell_type": "code",
   "execution_count": 27,
   "metadata": {},
   "outputs": [],
   "source": [
    "y=df['Category']"
   ]
  },
  {
   "cell_type": "code",
   "execution_count": 28,
   "metadata": {},
   "outputs": [],
   "source": [
    "y=le.fit_transform(y)"
   ]
  },
  {
   "cell_type": "code",
   "execution_count": 29,
   "metadata": {},
   "outputs": [
    {
     "data": {
      "text/plain": [
       "array([ 6,  6,  6,  6,  6,  6,  6,  6,  6,  6,  6,  6,  6,  6,  6,  6,  6,\n",
       "        6,  6,  6,  6,  6,  6,  6,  6,  6,  6,  6,  6,  6,  6,  6,  6,  6,\n",
       "        6,  6,  6,  6,  6,  6, 12, 12, 12, 12, 12, 12, 12, 12, 12, 12, 12,\n",
       "       12, 12, 12, 12, 12, 12, 12, 12, 12, 12, 12, 12, 12, 12, 12, 12, 12,\n",
       "       12, 12, 12, 12, 12, 12, 12, 12, 12, 12, 12, 12, 12, 12, 12, 12,  0,\n",
       "        0,  0,  0,  0,  0,  0,  0,  0,  0,  0,  0,  0,  0,  0,  0,  0,  0,\n",
       "        0,  0,  1,  1,  1,  1,  1,  1,  1,  1,  1,  1,  1,  1,  1,  1,  1,\n",
       "        1,  1,  1,  1,  1,  1,  1,  1,  1,  1,  1,  1,  1,  1,  1,  1,  1,\n",
       "        1,  1,  1,  1, 24, 24, 24, 24, 24, 24, 24, 24, 24, 24, 24, 24, 24,\n",
       "       24, 24, 24, 24, 24, 24, 24, 24, 24, 24, 24, 24, 24, 24, 24, 24, 24,\n",
       "       24, 24, 24, 24, 24, 24, 24, 24, 24, 24, 24, 24, 24, 24, 24, 16, 16,\n",
       "       16, 16, 16, 16, 16, 16, 16, 16, 16, 16, 16, 16, 16, 16, 16, 16, 16,\n",
       "       16, 16, 16, 16, 16, 16, 16, 16, 16, 16, 16, 16, 16, 16, 16, 16, 16,\n",
       "       16, 16, 16, 16, 22, 22, 22, 22, 22, 22, 22, 22, 22, 22, 22, 22, 22,\n",
       "       22, 22, 22, 22, 22, 22, 22, 22, 22, 22, 22, 22, 22, 22, 22, 22, 22,\n",
       "       22, 22, 22, 22, 22, 22, 22, 22, 22, 22, 14, 14, 14, 14, 14, 14, 14,\n",
       "       14, 14, 14, 14, 14, 14, 14, 14, 14, 14, 14, 14, 14, 14, 14, 14, 14,\n",
       "       14, 14, 14, 14, 14, 14,  5,  5,  5,  5,  5,  5,  5,  5,  5,  5,  5,\n",
       "        5,  5,  5,  5,  5,  5,  5,  5,  5,  5,  5,  5,  5, 15, 15, 15, 15,\n",
       "       15, 15, 15, 15, 15, 15, 15, 15, 15, 15, 15, 15, 15, 15, 15, 15, 15,\n",
       "       15, 15, 15, 15, 15, 15, 15, 15, 15, 15, 15, 15, 15, 15, 15, 15, 15,\n",
       "       15, 15, 15, 15, 15, 15, 15, 15, 15, 15, 15, 15, 15, 15, 15, 15, 15,\n",
       "       15, 15, 15, 15, 15, 15, 15, 15, 15, 15, 15, 15, 15, 15, 15, 15, 15,\n",
       "       15, 15, 15, 15, 15, 15, 15, 15, 15, 15, 15, 15,  4,  4,  4,  4,  4,\n",
       "        4,  4,  4,  4,  4,  4,  4,  4,  4,  4,  4,  4,  4,  4,  4,  4,  4,\n",
       "        4,  4,  4,  4,  4,  4, 21, 21, 21, 21, 21, 21, 21, 21, 21, 21, 21,\n",
       "       21, 21, 21, 21, 21, 21, 21, 21, 21, 21, 21, 21, 21,  2,  2,  2,  2,\n",
       "        2,  2,  2,  2,  2,  2,  2,  2,  2,  2,  2,  2,  2,  2,  2,  2,  2,\n",
       "        2,  2,  2,  2,  2, 11, 11, 11, 11, 11, 11, 11, 11, 11, 11, 11, 11,\n",
       "       11, 11, 11, 11, 11, 11, 11, 11, 11, 11, 11, 11, 11, 11, 11, 11, 11,\n",
       "       11, 18, 18, 18, 18, 18, 18, 18, 18, 18, 18, 18, 18, 18, 18, 18, 18,\n",
       "       18, 18, 18, 18, 18, 18, 18, 18, 18, 18, 18, 18, 18, 18, 18, 18, 18,\n",
       "       18, 18, 18, 18, 18, 18, 18, 20, 20, 20, 20, 20, 20, 20, 20, 20, 20,\n",
       "       20, 20, 20, 20, 20, 20, 20, 20, 20, 20, 20, 20, 20, 20, 20, 20, 20,\n",
       "       20, 20, 20, 20, 20, 20, 20, 20, 20, 20, 20, 20, 20, 20, 20, 20, 20,\n",
       "       20, 20, 20, 20,  8,  8,  8,  8,  8,  8,  8,  8,  8,  8,  8,  8,  8,\n",
       "        8,  8,  8,  8,  8,  8,  8,  8,  8,  8,  8,  8,  8,  8,  8,  8,  8,\n",
       "        8,  8,  8,  8,  8,  8,  8,  8,  8,  8,  8,  8,  8,  8,  8,  8,  8,\n",
       "        8,  8,  8,  8,  8,  8,  8,  8, 17, 17, 17, 17, 17, 17, 17, 17, 17,\n",
       "       17, 17, 17, 17, 17, 17, 17, 17, 17, 17, 17, 17, 17, 17, 17, 17, 19,\n",
       "       19, 19, 19, 19, 19, 19, 19, 19, 19, 19, 19, 19, 19, 19, 19, 19, 19,\n",
       "       19, 19, 19, 19, 19, 19, 19, 19, 19, 19, 19, 19,  7,  7,  7,  7,  7,\n",
       "        7,  7,  7,  7,  7,  7,  7,  7,  7,  7,  7,  7,  7,  7,  7,  7,  7,\n",
       "        7,  7,  7,  7,  7,  7,  7,  7,  7,  7,  7, 13, 13, 13, 13, 13, 13,\n",
       "       13, 13, 13, 13, 13, 13, 13, 13, 13, 13, 13, 13, 13, 13, 13, 13, 13,\n",
       "       13, 13, 13, 13, 13, 13, 13, 13, 13, 13, 13, 13, 13, 13, 13, 13, 13,\n",
       "       13, 13, 10, 10, 10, 10, 10, 10, 10, 10, 10, 10, 10, 10, 10, 10, 10,\n",
       "       10, 10, 10, 10, 10, 10, 10, 10, 10, 10, 10, 10, 10, 10, 10, 10, 10,\n",
       "       10, 10, 10, 10, 10, 10, 10, 10,  9,  9,  9,  9,  9,  9,  9,  9,  9,\n",
       "        9,  9,  9,  9,  9,  9,  9,  9,  9,  9,  9,  9,  9,  9,  9,  9,  9,\n",
       "        9,  9,  3,  3,  3,  3,  3,  3,  3,  3,  3,  3,  3,  3,  3,  3,  3,\n",
       "        3,  3,  3,  3,  3,  3,  3,  3,  3,  3,  3,  3,  3,  3,  3,  3,  3,\n",
       "        3,  3,  3,  3,  3,  3,  3,  3, 23, 23, 23, 23, 23, 23, 23, 23, 23,\n",
       "       23, 23, 23, 23, 23, 23, 23, 23, 23, 23, 23, 23, 23, 23, 23, 23, 23,\n",
       "       23, 23, 23, 23, 23, 23, 23, 23, 23, 23, 23, 23, 23, 23, 23, 23, 23,\n",
       "       23, 23, 23, 23, 23, 23, 23, 23, 23, 23, 23, 23, 23, 23, 23, 23, 23,\n",
       "       23, 23, 23, 23, 23, 23, 23, 23, 23, 23])"
      ]
     },
     "execution_count": 29,
     "metadata": {},
     "output_type": "execute_result"
    }
   ],
   "source": [
    "y"
   ]
  },
  {
   "cell_type": "code",
   "execution_count": 30,
   "metadata": {},
   "outputs": [],
   "source": [
    "X=df['cleaned_text']"
   ]
  },
  {
   "cell_type": "code",
   "execution_count": 31,
   "metadata": {},
   "outputs": [],
   "source": [
    "from sklearn.feature_extraction.text import TfidfVectorizer,CountVectorizer"
   ]
  },
  {
   "cell_type": "code",
   "execution_count": 32,
   "metadata": {},
   "outputs": [],
   "source": [
    "vect=CountVectorizer(encoding='utf-8',lowercase=False)\n",
    "tf=TfidfVectorizer(max_features=2000,sublinear_tf=True,norm='l1',stop_words='english',lowercase=False)"
   ]
  },
  {
   "cell_type": "code",
   "execution_count": 33,
   "metadata": {},
   "outputs": [],
   "source": [
    "\n",
    "#vect.fit(X)\n",
    "#X=vect.transform(X)"
   ]
  },
  {
   "cell_type": "code",
   "execution_count": 34,
   "metadata": {},
   "outputs": [
    {
     "data": {
      "text/plain": [
       "TfidfVectorizer(lowercase=False, max_features=2000, norm='l1',\n",
       "                stop_words='english', sublinear_tf=True)"
      ]
     },
     "execution_count": 34,
     "metadata": {},
     "output_type": "execute_result"
    }
   ],
   "source": [
    "tf.fit(X)"
   ]
  },
  {
   "cell_type": "code",
   "execution_count": 35,
   "metadata": {},
   "outputs": [],
   "source": [
    "X_trans=tf.transform(X)"
   ]
  },
  {
   "cell_type": "code",
   "execution_count": 36,
   "metadata": {},
   "outputs": [],
   "source": [
    "from sklearn.model_selection import StratifiedShuffleSplit"
   ]
  },
  {
   "cell_type": "code",
   "execution_count": 37,
   "metadata": {},
   "outputs": [],
   "source": [
    "from sklearn.naive_bayes import MultinomialNB\n",
    "from sklearn.multiclass import OneVsRestClassifier"
   ]
  },
  {
   "cell_type": "code",
   "execution_count": 38,
   "metadata": {},
   "outputs": [],
   "source": [
    "from sklearn.linear_model import LogisticRegression\n",
    "lr=OneVsRestClassifier(LogisticRegression())"
   ]
  },
  {
   "cell_type": "code",
   "execution_count": 39,
   "metadata": {},
   "outputs": [],
   "source": [
    "from sklearn.linear_model import SGDClassifier\n",
    "sgd=SGDClassifier()"
   ]
  },
  {
   "cell_type": "code",
   "execution_count": 40,
   "metadata": {},
   "outputs": [],
   "source": [
    "from sklearn.neighbors import KNeighborsClassifier"
   ]
  },
  {
   "cell_type": "code",
   "execution_count": 41,
   "metadata": {},
   "outputs": [],
   "source": [
    "from sklearn.metrics import f1_score,accuracy_score"
   ]
  },
  {
   "cell_type": "code",
   "execution_count": 42,
   "metadata": {},
   "outputs": [],
   "source": [
    "m=OneVsRestClassifier(MultinomialNB())"
   ]
  },
  {
   "cell_type": "code",
   "execution_count": 43,
   "metadata": {},
   "outputs": [],
   "source": [
    "s=StratifiedShuffleSplit(n_splits=5,test_size=0.3,random_state=42)"
   ]
  },
  {
   "cell_type": "code",
   "execution_count": 44,
   "metadata": {},
   "outputs": [],
   "source": [
    "f1=[]\n",
    "accuracy=[]\n",
    "clf=OneVsRestClassifier(KNeighborsClassifier())\n",
    "for t_index,te_index in s.split(X_trans,y):\n",
    "    X_train,y_train=X_trans[t_index],y[t_index]\n",
    "    X_test,y_test=X_trans[te_index],y[te_index]\n",
    "    sgd.fit(X_train,y_train)\n",
    "    f1.append(f1_score(y_test,sgd.predict(X_test),average='micro'))\n",
    "    accuracy.append(accuracy_score(y_test,sgd.predict(X_test)))\n",
    "    "
   ]
  },
  {
   "cell_type": "code",
   "execution_count": 45,
   "metadata": {},
   "outputs": [
    {
     "data": {
      "text/plain": [
       "[0.9965397923875432,\n",
       " 0.9965397923875432,\n",
       " 0.986159169550173,\n",
       " 0.9930795847750865,\n",
       " 0.9896193771626297]"
      ]
     },
     "execution_count": 45,
     "metadata": {},
     "output_type": "execute_result"
    }
   ],
   "source": [
    "f1"
   ]
  },
  {
   "cell_type": "code",
   "execution_count": 46,
   "metadata": {},
   "outputs": [
    {
     "data": {
      "text/plain": [
       "[0.9965397923875432,\n",
       " 0.9965397923875432,\n",
       " 0.986159169550173,\n",
       " 0.9930795847750865,\n",
       " 0.9896193771626297]"
      ]
     },
     "execution_count": 46,
     "metadata": {},
     "output_type": "execute_result"
    }
   ],
   "source": [
    "accuracy"
   ]
  },
  {
   "cell_type": "code",
   "execution_count": 47,
   "metadata": {},
   "outputs": [],
   "source": [
    "from sklearn.model_selection import train_test_split"
   ]
  },
  {
   "cell_type": "code",
   "execution_count": 48,
   "metadata": {},
   "outputs": [],
   "source": [
    "X_t,X_te,y_t,y_te=train_test_split(X_trans,y,test_size=0.2,random_state=42)"
   ]
  },
  {
   "cell_type": "code",
   "execution_count": 49,
   "metadata": {},
   "outputs": [
    {
     "data": {
      "text/plain": [
       "OneVsRestClassifier(estimator=MultinomialNB())"
      ]
     },
     "execution_count": 49,
     "metadata": {},
     "output_type": "execute_result"
    }
   ],
   "source": [
    "m.fit(X_t,y_t)"
   ]
  },
  {
   "cell_type": "code",
   "execution_count": 50,
   "metadata": {},
   "outputs": [],
   "source": [
    "y_pred=m.predict(X_test)"
   ]
  },
  {
   "cell_type": "code",
   "execution_count": 51,
   "metadata": {},
   "outputs": [
    {
     "data": {
      "text/plain": [
       "array([15, 15, 15, 15, 15, 15, 15, 15, 15, 15, 15, 15, 15, 15, 15, 15, 15,\n",
       "       15, 15, 15, 15, 15, 15, 15, 15, 15, 15, 15, 15, 15, 15, 15, 15, 15,\n",
       "       15, 15, 15, 15, 15, 15, 15, 15, 15, 15, 15, 15, 15, 12, 15, 15, 15,\n",
       "       15, 15, 15, 15, 15, 15, 15, 15, 15, 15, 15, 15, 15, 15, 15, 15, 15,\n",
       "       15, 15, 15, 15, 15, 15, 15, 15, 15, 15, 15, 15, 15, 15, 15, 15, 15,\n",
       "       15, 15, 15, 15, 15, 15, 15, 15, 15, 15, 15, 15, 15, 15, 15, 15, 15,\n",
       "       15, 15, 15, 15, 15, 15, 15, 15, 15, 15, 15, 15, 15, 15, 15, 15, 15,\n",
       "       15, 15, 15, 15, 15, 15, 15, 15, 15, 15, 15, 15, 15, 15, 15, 15, 15,\n",
       "       15, 15, 15, 15, 15, 15, 15, 15, 15, 15, 15, 15, 15, 15, 15, 15, 15,\n",
       "       15, 15, 15, 15, 15, 15, 15, 15, 15, 15, 15, 15, 15, 15, 15, 15, 15,\n",
       "       15, 15, 15, 15, 15, 15, 15, 15, 15, 15, 15, 15, 15, 15, 15, 15, 15,\n",
       "       15, 15, 15, 15, 15, 15, 15, 12, 15, 15, 15, 15, 15, 15, 15, 15, 15,\n",
       "       15, 15, 15, 15, 15, 15, 15, 15, 15, 15, 15, 15, 15, 15, 15, 15, 15,\n",
       "       15, 15, 15, 15, 15, 15, 15, 15, 15, 15, 15, 15, 15, 15, 15, 15, 15,\n",
       "       15, 15, 15, 15, 15, 15, 15, 15, 15, 15, 15, 15, 15, 15, 15, 12, 15,\n",
       "       15, 15, 15, 15, 15, 15, 15, 15, 15, 15, 15, 15, 15, 15, 15, 15, 15,\n",
       "       15, 15, 12, 15, 15, 15, 15, 15, 15, 15, 15, 15, 15, 15, 15, 15, 12])"
      ]
     },
     "execution_count": 51,
     "metadata": {},
     "output_type": "execute_result"
    }
   ],
   "source": [
    "y_pred"
   ]
  },
  {
   "cell_type": "code",
   "execution_count": 52,
   "metadata": {},
   "outputs": [],
   "source": [
    "from sklearn.multiclass import OneVsRestClassifier\n",
    "from sklearn.neighbors import KNeighborsClassifier"
   ]
  },
  {
   "cell_type": "code",
   "execution_count": 53,
   "metadata": {},
   "outputs": [],
   "source": [
    "clf = OneVsRestClassifier(KNeighborsClassifier())\n",
    "clf.fit(X_t, y_t)\n",
    "prediction = clf.predict(X_te)"
   ]
  },
  {
   "cell_type": "code",
   "execution_count": 54,
   "metadata": {},
   "outputs": [
    {
     "name": "stdout",
     "output_type": "stream",
     "text": [
      "0.9222797927461139\n"
     ]
    }
   ],
   "source": [
    "print(accuracy_score(y_te,prediction))"
   ]
  },
  {
   "cell_type": "code",
   "execution_count": 55,
   "metadata": {},
   "outputs": [],
   "source": [
    "from sklearn.svm import SVC"
   ]
  },
  {
   "cell_type": "code",
   "execution_count": 56,
   "metadata": {},
   "outputs": [],
   "source": [
    "from sklearn.model_selection import RandomizedSearchCV\n"
   ]
  },
  {
   "cell_type": "code",
   "execution_count": 57,
   "metadata": {},
   "outputs": [],
   "source": [
    "di={\n",
    "    'C':[1.0,0.9,0.8,1.2,1.5,2,0.5],\n",
    "    'kernel':['rbf','linear']\n",
    "}"
   ]
  },
  {
   "cell_type": "code",
   "execution_count": 58,
   "metadata": {},
   "outputs": [],
   "source": [
    "search=RandomizedSearchCV(SVC(),di,n_iter=10,cv=5,random_state=2)"
   ]
  },
  {
   "cell_type": "code",
   "execution_count": 59,
   "metadata": {},
   "outputs": [],
   "source": [
    "k=search.fit(X_train,y_train)"
   ]
  },
  {
   "cell_type": "code",
   "execution_count": 60,
   "metadata": {},
   "outputs": [
    {
     "data": {
      "text/plain": [
       "{'mean_fit_time': array([0.31002107, 0.1910275 , 0.32205215, 0.22698655, 0.37754407,\n",
       "        0.27689381, 0.31445332, 0.12799001, 0.32091603, 0.24199214]),\n",
       " 'std_fit_time': array([0.04130082, 0.01067284, 0.04041893, 0.05751705, 0.07256537,\n",
       "        0.00281344, 0.04125983, 0.01666514, 0.08137541, 0.01727028]),\n",
       " 'mean_score_time': array([0.04881201, 0.03771105, 0.05991769, 0.05007544, 0.05556989,\n",
       "        0.04449401, 0.05293522, 0.02767119, 0.04683347, 0.04661889]),\n",
       " 'std_score_time': array([0.00232545, 0.00152415, 0.01780004, 0.0238923 , 0.0091618 ,\n",
       "        0.00240039, 0.01198456, 0.0052975 , 0.00490767, 0.00460912]),\n",
       " 'param_kernel': masked_array(data=['linear', 'rbf', 'linear', 'rbf', 'linear', 'linear',\n",
       "                    'linear', 'rbf', 'linear', 'rbf'],\n",
       "              mask=[False, False, False, False, False, False, False, False,\n",
       "                    False, False],\n",
       "        fill_value='?',\n",
       "             dtype=object),\n",
       " 'param_C': masked_array(data=[2, 0.8, 0.8, 1.0, 1.5, 0.9, 1.0, 2, 1.2, 0.5],\n",
       "              mask=[False, False, False, False, False, False, False, False,\n",
       "                    False, False],\n",
       "        fill_value='?',\n",
       "             dtype=object),\n",
       " 'params': [{'kernel': 'linear', 'C': 2},\n",
       "  {'kernel': 'rbf', 'C': 0.8},\n",
       "  {'kernel': 'linear', 'C': 0.8},\n",
       "  {'kernel': 'rbf', 'C': 1.0},\n",
       "  {'kernel': 'linear', 'C': 1.5},\n",
       "  {'kernel': 'linear', 'C': 0.9},\n",
       "  {'kernel': 'linear', 'C': 1.0},\n",
       "  {'kernel': 'rbf', 'C': 2},\n",
       "  {'kernel': 'linear', 'C': 1.2},\n",
       "  {'kernel': 'rbf', 'C': 0.5}],\n",
       " 'split0_test_score': array([0.1037037 , 0.97037037, 0.08148148, 0.97037037, 0.1037037 ,\n",
       "        0.08148148, 0.08148148, 0.97037037, 0.08148148, 0.94814815]),\n",
       " 'split1_test_score': array([0.11851852, 0.95555556, 0.08888889, 0.98518519, 0.1037037 ,\n",
       "        0.08888889, 0.08888889, 0.98518519, 0.0962963 , 0.94814815]),\n",
       " 'split2_test_score': array([0.11111111, 1.        , 0.08888889, 1.        , 0.1037037 ,\n",
       "        0.08888889, 0.08888889, 1.        , 0.1037037 , 0.97037037]),\n",
       " 'split3_test_score': array([0.10447761, 0.92537313, 0.08955224, 0.94029851, 0.10447761,\n",
       "        0.08955224, 0.08955224, 0.97761194, 0.08955224, 0.91791045]),\n",
       " 'split4_test_score': array([0.09701493, 0.98507463, 0.08955224, 0.98507463, 0.09701493,\n",
       "        0.08955224, 0.08955224, 0.99253731, 0.09701493, 0.98507463]),\n",
       " 'mean_test_score': array([0.10696517, 0.96727474, 0.08767275, 0.97618574, 0.10252073,\n",
       "        0.08767275, 0.08767275, 0.98514096, 0.09360973, 0.95393035]),\n",
       " 'std_test_score': array([0.0073007 , 0.02565325, 0.00310982, 0.02024269, 0.00276917,\n",
       "        0.00310982, 0.00310982, 0.01049148, 0.00754001, 0.02282341]),\n",
       " 'rank_test_score': array([5, 3, 8, 2, 6, 8, 8, 1, 7, 4])}"
      ]
     },
     "execution_count": 60,
     "metadata": {},
     "output_type": "execute_result"
    }
   ],
   "source": [
    "k.cv_results_"
   ]
  },
  {
   "cell_type": "code",
   "execution_count": 61,
   "metadata": {},
   "outputs": [
    {
     "data": {
      "text/plain": [
       "{'kernel': 'rbf', 'C': 2}"
      ]
     },
     "execution_count": 61,
     "metadata": {},
     "output_type": "execute_result"
    }
   ],
   "source": [
    "k.best_params_"
   ]
  },
  {
   "cell_type": "code",
   "execution_count": 62,
   "metadata": {},
   "outputs": [],
   "source": [
    "sv=SVC(C=2,kernel='rbf')"
   ]
  },
  {
   "cell_type": "code",
   "execution_count": 63,
   "metadata": {},
   "outputs": [
    {
     "data": {
      "text/plain": [
       "SVC(C=2)"
      ]
     },
     "execution_count": 63,
     "metadata": {},
     "output_type": "execute_result"
    }
   ],
   "source": [
    "sv.fit(X_train,y_train)"
   ]
  },
  {
   "cell_type": "code",
   "execution_count": 64,
   "metadata": {},
   "outputs": [
    {
     "data": {
      "text/plain": [
       "0.986159169550173"
      ]
     },
     "execution_count": 64,
     "metadata": {},
     "output_type": "execute_result"
    }
   ],
   "source": [
    "f1_score(y_test,sv.predict(X_test),average='micro')"
   ]
  },
  {
   "cell_type": "code",
   "execution_count": 65,
   "metadata": {},
   "outputs": [
    {
     "data": {
      "text/plain": [
       "array([ 8,  1, 15, 15, 22, 20, 16, 14,  2, 13,  1, 11, 17,  3,  0, 15,  1,\n",
       "        5, 23, 15, 10, 18,  4,  6, 19,  7, 15,  8, 11, 24, 23, 21, 24, 14,\n",
       "       20, 18, 15, 10,  9, 20,  9,  4,  4, 20,  1, 16, 24, 12, 21,  2,  9,\n",
       "       21, 22,  1,  9, 17, 16, 16, 16, 15, 15,  8, 11, 23, 19, 24, 23, 13,\n",
       "       23, 11, 21, 24, 12,  2, 24, 15, 23,  4, 24, 14,  7, 22, 24, 13,  1,\n",
       "        8, 15, 15, 22,  3,  3, 15, 23,  6, 22, 18, 11, 24, 15, 10,  8,  8,\n",
       "       13, 12,  0, 16,  7, 10, 17,  6,  2, 10, 17,  7,  3, 23,  7,  6,  8,\n",
       "        8,  6, 23, 17, 11,  8, 10,  3, 15, 23,  1,  1, 23,  5, 23, 19, 20,\n",
       "        4, 12, 10,  6, 19,  7, 15,  5, 10, 18, 21, 13,  8, 23, 18, 15, 18,\n",
       "       23, 12, 21, 17, 11, 16, 15,  3, 15, 19, 23, 13, 22, 12, 15, 15, 19,\n",
       "       23,  6,  8, 15,  3, 19, 15,  8, 18, 19,  8,  3, 16, 23, 24, 22,  9,\n",
       "       16, 23,  1,  2,  9, 12,  3, 12, 20, 18, 24, 13, 12,  7, 20, 14,  6,\n",
       "       14, 22, 12, 11,  3,  7, 23, 12,  4,  9, 20, 20, 14, 22,  8, 10,  0,\n",
       "       24, 10, 20,  8, 23, 13,  7,  5,  6,  5, 15, 13,  9, 11, 10, 23, 18,\n",
       "        6,  6,  7, 17, 15, 24,  0,  1, 20, 12, 16,  1, 20,  6,  3, 12, 18,\n",
       "       14, 16, 13, 13,  5, 13,  4, 15, 18,  3, 17, 10, 20, 22, 22, 15, 24,\n",
       "        5,  8, 12, 14,  8,  2, 13, 21, 22, 16, 14, 15,  4, 19, 18, 20, 12])"
      ]
     },
     "execution_count": 65,
     "metadata": {},
     "output_type": "execute_result"
    }
   ],
   "source": [
    "sv.predict(X_test)"
   ]
  },
  {
   "cell_type": "code",
   "execution_count": 66,
   "metadata": {},
   "outputs": [],
   "source": [
    "from sklearn.ensemble import VotingClassifier"
   ]
  },
  {
   "cell_type": "code",
   "execution_count": 67,
   "metadata": {},
   "outputs": [],
   "source": [
    "vi=VotingClassifier(estimators=[\n",
    "    ('LogisticRegression',lr),\n",
    "    ('SGD classifier',sgd),\n",
    "    ('OnevsRestKnn',clf),\n",
    "    ('SVM_rbf_kernel',sv)\n",
    "    #(random forest),\n",
    "    #(XGboost),\n",
    "    #()\n",
    "],voting='hard')"
   ]
  },
  {
   "cell_type": "code",
   "execution_count": 68,
   "metadata": {},
   "outputs": [],
   "source": [
    "#from sklearn.metrics"
   ]
  },
  {
   "cell_type": "code",
   "execution_count": 69,
   "metadata": {},
   "outputs": [],
   "source": [
    "f1=[]\n",
    "accuracy=[]\n",
    "clf=OneVsRestClassifier(KNeighborsClassifier())\n",
    "for t_index,te_index in s.split(X_trans,y):\n",
    "    X_train,y_train=X_trans[t_index],y[t_index]\n",
    "    X_test,y_test=X_trans[te_index],y[te_index]\n",
    "    vi.fit(X_train,y_train)\n",
    "    f1.append(f1_score(y_test,vi.predict(X_test),average='micro'))\n",
    "    accuracy.append(accuracy_score(y_test,vi.predict(X_test)))\n",
    "    "
   ]
  },
  {
   "cell_type": "code",
   "execution_count": 70,
   "metadata": {},
   "outputs": [
    {
     "data": {
      "text/plain": [
       "[0.986159169550173,\n",
       " 1.0,\n",
       " 0.9826989619377162,\n",
       " 0.9930795847750865,\n",
       " 0.9930795847750865]"
      ]
     },
     "execution_count": 70,
     "metadata": {},
     "output_type": "execute_result"
    }
   ],
   "source": [
    "f1"
   ]
  },
  {
   "cell_type": "code",
   "execution_count": 71,
   "metadata": {},
   "outputs": [
    {
     "data": {
      "text/plain": [
       "[0.986159169550173,\n",
       " 1.0,\n",
       " 0.9826989619377162,\n",
       " 0.9930795847750865,\n",
       " 0.9930795847750865]"
      ]
     },
     "execution_count": 71,
     "metadata": {},
     "output_type": "execute_result"
    }
   ],
   "source": [
    "accuracy"
   ]
  },
  {
   "cell_type": "code",
   "execution_count": 72,
   "metadata": {},
   "outputs": [
    {
     "ename": "ModuleNotFoundError",
     "evalue": "No module named 'slate'",
     "output_type": "error",
     "traceback": [
      "\u001b[1;31m---------------------------------------------------------------------------\u001b[0m",
      "\u001b[1;31mModuleNotFoundError\u001b[0m                       Traceback (most recent call last)",
      "\u001b[1;32m<ipython-input-72-e532bb050ccb>\u001b[0m in \u001b[0;36m<module>\u001b[1;34m\u001b[0m\n\u001b[1;32m----> 1\u001b[1;33m \u001b[1;32mimport\u001b[0m \u001b[0mslate\u001b[0m\u001b[1;33m\u001b[0m\u001b[1;33m\u001b[0m\u001b[0m\n\u001b[0m",
      "\u001b[1;31mModuleNotFoundError\u001b[0m: No module named 'slate'"
     ]
    }
   ],
   "source": [
    "#import slate"
   ]
  },
  {
   "cell_type": "code",
   "execution_count": 73,
   "metadata": {},
   "outputs": [
    {
     "name": "stdout",
     "output_type": "stream",
     "text": [
      "{'/CropBox': [0, 0, 612, 792], '/Parent': IndirectObject(1, 0), '/Contents': [IndirectObject(9, 0), IndirectObject(11, 0), IndirectObject(13, 0), IndirectObject(14, 0), IndirectObject(15, 0), IndirectObject(17, 0), IndirectObject(18, 0), IndirectObject(19, 0)], '/Rotate': 0, '/MediaBox': [0, 0, 612, 792], '/Resources': {'/Font': {'/F15': IndirectObject(7, 0), '/F16': IndirectObject(8, 0), '/F17': IndirectObject(10, 0), '/F18': IndirectObject(12, 0), '/F19': IndirectObject(16, 0)}, '/ProcSet': ['/PDF', '/Text', '/ImageB', '/ImageC']}, '/Type': '/Page'}\n"
     ]
    },
    {
     "name": "stderr",
     "output_type": "stream",
     "text": [
      "PdfReadWarning: Xref table not zero-indexed. ID numbers for objects will be corrected. [pdf.py:1736]\n"
     ]
    }
   ],
   "source": [
    "import PyPDF2\n",
    "fl = open(\"c10.pdf\",\"rb\")\n",
    "reader = PyPDF2.PdfFileReader(fl)\n",
    "page1 = reader.getPage(0)\n",
    "print(page1)\n",
    "pdfData = page1.extractText()"
   ]
  },
  {
   "cell_type": "code",
   "execution_count": 74,
   "metadata": {},
   "outputs": [
    {
     "ename": "NameError",
     "evalue": "name 'filename' is not defined",
     "output_type": "error",
     "traceback": [
      "\u001b[1;31m---------------------------------------------------------------------------\u001b[0m",
      "\u001b[1;31mNameError\u001b[0m                                 Traceback (most recent call last)",
      "\u001b[1;32m<ipython-input-74-d8a55aabb363>\u001b[0m in \u001b[0;36m<module>\u001b[1;34m\u001b[0m\n\u001b[1;32m----> 1\u001b[1;33m \u001b[0mf\u001b[0m \u001b[1;33m=\u001b[0m \u001b[0mopen\u001b[0m\u001b[1;33m(\u001b[0m\u001b[1;34m\"CVs\"\u001b[0m \u001b[1;33m+\u001b[0m \u001b[0mfilename\u001b[0m\u001b[1;33m,\u001b[0m \u001b[1;34m\"rb\"\u001b[0m\u001b[1;33m)\u001b[0m\u001b[1;33m\u001b[0m\u001b[1;33m\u001b[0m\u001b[0m\n\u001b[0m\u001b[0;32m      2\u001b[0m \u001b[0mdoc\u001b[0m \u001b[1;33m=\u001b[0m \u001b[0mslate\u001b[0m\u001b[1;33m.\u001b[0m\u001b[0mPDF\u001b[0m\u001b[1;33m(\u001b[0m\u001b[0mf\u001b[0m\u001b[1;33m)\u001b[0m\u001b[1;33m\u001b[0m\u001b[1;33m\u001b[0m\u001b[0m\n\u001b[0;32m      3\u001b[0m \u001b[0meach_resume\u001b[0m \u001b[1;33m=\u001b[0m \u001b[1;34m\"\"\u001b[0m\u001b[1;33m\u001b[0m\u001b[1;33m\u001b[0m\u001b[0m\n\u001b[0;32m      4\u001b[0m \u001b[1;32mfor\u001b[0m \u001b[0mj\u001b[0m \u001b[1;32min\u001b[0m \u001b[0mrange\u001b[0m\u001b[1;33m(\u001b[0m\u001b[0mlen\u001b[0m\u001b[1;33m(\u001b[0m\u001b[0mdoc\u001b[0m\u001b[1;33m)\u001b[0m\u001b[1;33m)\u001b[0m\u001b[1;33m:\u001b[0m\u001b[1;33m\u001b[0m\u001b[1;33m\u001b[0m\u001b[0m\n\u001b[0;32m      5\u001b[0m         \u001b[0meach_resume\u001b[0m \u001b[1;33m+=\u001b[0m \u001b[0mdoc\u001b[0m\u001b[1;33m[\u001b[0m\u001b[0mj\u001b[0m\u001b[1;33m]\u001b[0m\u001b[1;33m\u001b[0m\u001b[1;33m\u001b[0m\u001b[0m\n",
      "\u001b[1;31mNameError\u001b[0m: name 'filename' is not defined"
     ]
    }
   ],
   "source": [
    "f = open(\"CVs\" + filename, \"rb\")\n",
    "doc = slate.PDF(f)\n",
    "each_resume = \"\"\t\n",
    "for j in range(len(doc)):\n",
    "        each_resume += doc[j]"
   ]
  },
  {
   "cell_type": "code",
   "execution_count": 75,
   "metadata": {},
   "outputs": [
    {
     "data": {
      "text/plain": [
       "'RAHUL SRIVASTAVARoom No: C-342, LLR Hallof Residence , IIT Kharagpur\\nPh: 9732961707, Email : \\nrahusr@gmail.com\\n                                         \\nAcademic Qualifications\\nExamination Year Board/University\\n%/CGPA Dual Degree(Hons.),Computer Science & Engineering\\n2011IIT Kharagpur8.18/10Class XII2003CBSE88%Class X2001CBSE84%Academic Distinctions\\nAll India Rank 482\\nin IIT-JEEexamination among 300,000 candidates, 2006\\nState Rank 55\\nin UPSEAT(Uttar Pradesh State Engineering Admission Test) among 80,000 candidates, 2006\\nAll India Rank 1078\\n(with 98.99 percentile\\n) in GATEexamination among 107,086 candidates, 2010.\\n9.75/10 GPA\\nin 8thsemester (10/10in Project, 10/10 in 4 Courses) at IIT Kharagpur, 2010\\nRecipient of GATE MHRD scholarship\\ngiven by Gov. of India, May 2010 to April 2011\\nOffered scholarshipfor summer internship at Universidad de Guanajuatoin \\nMexico\\n, 2010 Work Experience/ Internship\\nLaboratory of Vision, Robotics and Artificial Intelligence, UGTO, Mexico\\n                 (20\\nthMay-20\\nthJuly,2010)Project Name:\\nReducing Complexity of 3D Mesh\\nArea:Computer Graphics\\n3D objects are represented as a set of polygons, PLY files represents this set as a text file.\\nAim was to reduce the number of polygonsrepresenting the 3D object, keeping visual similarity intact.\\nSoftware made(inC++using OpenGL) to parse the PLY fileand display its content.\\nAn innovative approachfor polygon reduction using curvature estimate proposed.\\nNew approach successfully implemented &\\n15-20 % reduction\\nin number of polygons achieved.\\nTata Research Development & Design Center(TRDDC), Pune                                  \\n(10thMay Œ10\\nthJuly, 2009)Project Name: \\nQuest 2009 (Web Application)\\nArea:Databases(MDX & OLAP), GUI\\nAim was to create a survey analysis toolin the form of a web interfacefor cubedata structure.\\nMDX(Multi Dimensional Expression) queries were mappedtoanintuitive 2D GUI.\\nWebsite successfully madedisplaying MDX queriesin the form of tables and charts.\\n3000 lines of codewritten in C#&ASP.NET. Visual Studio 2005and SQL Server 2005were used.\\nHighest Grade 10/10in summer internship evaluation at TRDDC and IIT Kharagpur, 2009\\nProjects\\nDesign Lab, IIT Kharagpur\\n                                                                                  (20\\nthJuly Œ20\\nth  November, 2010)\\nProject Name: \\nCreating 3D photographs and videos\\nArea:3D Technology\\nEasy way of creating anaglyph 3D photos and videossuggested using normal 2D camera.\\nProgram writtenwhich took as input two images of the same object from slightly different perspectives. \\nOutputwas a \\n3D anaglyph image\\n. Similar technique used to produce \\n3D anaglyph video\\n.Program written in C++using anopen sourcelibrary \\nImageMagick\\n.B.Tech. Project, IIT Kharagpur\\n                                                                                      (August 2009 ŒApril 2010)\\nProject Name: \\nEstimating curvature of digital curves\\nArea:Computational Geometry, Graphics\\nAn innovative approachusing digital osculatingcircle proposed for curvature estimationof digital curves..\\nIdea was to approximate a part of the digital curve withbest fitting osculating circle\\nThenew algorithmwas implemented in Java using NetBeans6.5\\nIt produced improved resultthan all other known methods and used only integer calculations\\nPositionsof  Responsibility\\nTeaching Assistant for Computer Organization and Architecture Lab, CSE , 20\\nthJuly Œ30\\nthNovember 2010\\nMember of sponsorship team of BitWise 2010, annual programming contest organized by CSE, IIT Kharagpur\\nExtra Curricular Activities\\nNational Cadet Corpse (NCC)of Indian Army, Annual Training Camp: completed successfully, 2006.\\nParticipant of Inter Hall English Dramaticscompetition, 2008.\\nInvolved in teaching70 studentsof KendriyaVidyalaya, IIT KGPas a part of National Services Scheme(NSS) \\nVolunteer, MANZARannual literary fest of IIT Kharagpur. \\n'"
      ]
     },
     "execution_count": 75,
     "metadata": {},
     "output_type": "execute_result"
    }
   ],
   "source": [
    "pdfData"
   ]
  },
  {
   "cell_type": "code",
   "execution_count": 76,
   "metadata": {},
   "outputs": [],
   "source": [
    "text='''Skills * Programming Languages: Python (pandas, numpy, scipy, scikit-learn, matplotlib), Sql, Java, JavaScript/JQuery. * Machine learning: Regression, SVM, NaÃ¯ve Bayes, KNN, Random Forest, Decision Trees, Boosting techniques, Cluster Analysis, Word Embedding, Sentiment Analysis, Natural Language processing, Dimensionality reduction, Topic Modelling (LDA, NMF), PCA & Neural Nets. * Database Visualizations: Mysql, SqlServer, Cassandra, Hbase, ElasticSearch D3.js, DC.js, Plotly, kibana, matplotlib, ggplot, Tableau. * Others: Regular Expression, HTML, CSS, Angular 6, Logstash, Kafka, Python Flask, Git, Docker, computer vision - Open CV and understanding of Deep learning.Education Details \n",
    "\n",
    "Data Science Assurance Associate \n",
    "\n",
    "Data Science Assurance Associate - Ernst & Young LLP\n",
    "Skill Details \n",
    "JAVASCRIPT- Exprience - 24 months\n",
    "jQuery- Exprience - 24 months\n",
    "Python- Exprience - 24 monthsCompany Details \n",
    "company - Ernst & Young LLP\n",
    "description - Fraud Investigations and Dispute Services   Assurance\n",
    "TECHNOLOGY ASSISTED REVIEW\n",
    "TAR (Technology Assisted Review) assists in accelerating the review process and run analytics and generate reports.\n",
    "* Core member of a team helped in developing automated review platform tool from scratch for assisting E discovery domain, this tool implements predictive coding and topic modelling by automating reviews, resulting in reduced labor costs and time spent during the lawyers review.\n",
    "* Understand the end to end flow of the solution, doing research and development for classification models, predictive analysis and mining of the information present in text data. Worked on analyzing the outputs and precision monitoring for the entire tool.\n",
    "* TAR assists in predictive coding, topic modelling from the evidence by following EY standards. Developed the classifier models in order to identify \"red flags\" and fraud-related issues.\n",
    "\n",
    "Tools & Technologies: Python, scikit-learn, tfidf, word2vec, doc2vec, cosine similarity, NaÃ¯ve Bayes, LDA, NMF for topic modelling, Vader and text blob for sentiment analysis. Matplot lib, Tableau dashboard for reporting.\n",
    "\n",
    "MULTIPLE DATA SCIENCE AND ANALYTIC PROJECTS (USA CLIENTS)\n",
    "TEXT ANALYTICS - MOTOR VEHICLE CUSTOMER REVIEW DATA * Received customer feedback survey data for past one year. Performed sentiment (Positive, Negative & Neutral) and time series analysis on customer comments across all 4 categories.\n",
    "* Created heat map of terms by survey category based on frequency of words * Extracted Positive and Negative words across all the Survey categories and plotted Word cloud.\n",
    "* Created customized tableau dashboards for effective reporting and visualizations.\n",
    "CHATBOT * Developed a user friendly chatbot for one of our Products which handle simple questions about hours of operation, reservation options and so on.\n",
    "* This chat bot serves entire product related questions. Giving overview of tool via QA platform and also give recommendation responses so that user question to build chain of relevant answer.\n",
    "* This too has intelligence to build the pipeline of questions as per user requirement and asks the relevant /recommended questions.\n",
    "\n",
    "Tools & Technologies: Python, Natural language processing, NLTK, spacy, topic modelling, Sentiment analysis, Word Embedding, scikit-learn, JavaScript/JQuery, SqlServer\n",
    "\n",
    "INFORMATION GOVERNANCE\n",
    "Organizations to make informed decisions about all of the information they store. The integrated Information Governance portfolio synthesizes intelligence across unstructured data sources and facilitates action to ensure organizations are best positioned to counter information risk.\n",
    "* Scan data from multiple sources of formats and parse different file formats, extract Meta data information, push results for indexing elastic search and created customized, interactive dashboards using kibana.\n",
    "* Preforming ROT Analysis on the data which give information of data which helps identify content that is either Redundant, Outdated, or Trivial.\n",
    "* Preforming full-text search analysis on elastic search with predefined methods which can tag as (PII) personally identifiable information (social security numbers, addresses, names, etc.) which frequently targeted during cyber-attacks.\n",
    "Tools & Technologies: Python, Flask, Elastic Search, Kibana\n",
    "\n",
    "FRAUD ANALYTIC PLATFORM\n",
    "Fraud Analytics and investigative platform to review all red flag cases.\n",
    "â¢ FAP is a Fraud Analytics and investigative platform with inbuilt case manager and suite of Analytics for various ERP systems.\n",
    "* It can be used by clients to interrogate their Accounting systems for identifying the anomalies which can be indicators of fraud by running advanced analytics\n",
    "Tools & Technologies: HTML, JavaScript, SqlServer, JQuery, CSS, Bootstrap, Node.js, D3.js, DC.js'''\n"
   ]
  },
  {
   "cell_type": "code",
   "execution_count": 77,
   "metadata": {},
   "outputs": [],
   "source": [
    "cleaned_text=clean(pdfData)"
   ]
  },
  {
   "cell_type": "code",
   "execution_count": 78,
   "metadata": {},
   "outputs": [],
   "source": [
    "cleaned_text=[cleaned_text]"
   ]
  },
  {
   "cell_type": "code",
   "execution_count": 79,
   "metadata": {},
   "outputs": [],
   "source": [
    "idf=tf.transform(cleaned_text)"
   ]
  },
  {
   "cell_type": "code",
   "execution_count": 80,
   "metadata": {},
   "outputs": [
    {
     "data": {
      "text/plain": [
       "<1x2000 sparse matrix of type '<class 'numpy.float64'>'\n",
       "\twith 162 stored elements in Compressed Sparse Row format>"
      ]
     },
     "execution_count": 80,
     "metadata": {},
     "output_type": "execute_result"
    }
   ],
   "source": [
    "idf"
   ]
  },
  {
   "cell_type": "code",
   "execution_count": 81,
   "metadata": {},
   "outputs": [],
   "source": [
    "from sklearn.metrics.pairwise import cosine_similarity"
   ]
  },
  {
   "cell_type": "code",
   "execution_count": 82,
   "metadata": {},
   "outputs": [],
   "source": [
    "def get_index_from_title(title):\n",
    "    return df[df.Category == title][\"index\"].values[0]"
   ]
  },
  {
   "cell_type": "code",
   "execution_count": 83,
   "metadata": {},
   "outputs": [],
   "source": [
    "similarity=[]\n",
    "for i in range(962):\n",
    "    c=cosine_similarity(X_trans[i],idf)\n",
    "    similarity.append((c,y[i]))"
   ]
  },
  {
   "cell_type": "code",
   "execution_count": 88,
   "metadata": {},
   "outputs": [],
   "source": [
    "similarity.sort(reverse=True)"
   ]
  },
  {
   "cell_type": "code",
   "execution_count": 92,
   "metadata": {},
   "outputs": [
    {
     "data": {
      "text/plain": [
       "[(array([[0.20179246]]), 24),\n",
       " (array([[0.20179246]]), 24),\n",
       " (array([[0.20179246]]), 24),\n",
       " (array([[0.20179246]]), 24),\n",
       " (array([[0.20179246]]), 24),\n",
       " (array([[0.20179246]]), 24),\n",
       " (array([[0.20179246]]), 24),\n",
       " (array([[0.20179246]]), 24),\n",
       " (array([[0.20179246]]), 24),\n",
       " (array([[0.1839941]]), 9),\n",
       " (array([[0.1839941]]), 9),\n",
       " (array([[0.1839941]]), 9),\n",
       " (array([[0.1839941]]), 9),\n",
       " (array([[0.17336991]]), 24),\n",
       " (array([[0.17336991]]), 24),\n",
       " (array([[0.17336991]]), 24),\n",
       " (array([[0.17336991]]), 24),\n",
       " (array([[0.17336991]]), 24),\n",
       " (array([[0.17336991]]), 24),\n",
       " (array([[0.17336991]]), 24),\n",
       " (array([[0.17336991]]), 24),\n",
       " (array([[0.17336991]]), 24),\n",
       " (array([[0.17336991]]), 24),\n",
       " (array([[0.17336991]]), 24),\n",
       " (array([[0.17336991]]), 24),\n",
       " (array([[0.17336991]]), 24),\n",
       " (array([[0.17336991]]), 24),\n",
       " (array([[0.17336991]]), 24),\n",
       " (array([[0.17336991]]), 24),\n",
       " (array([[0.17336991]]), 24),\n",
       " (array([[0.17336991]]), 24),\n",
       " (array([[0.1717803]]), 6),\n",
       " (array([[0.1717803]]), 6),\n",
       " (array([[0.1717803]]), 6),\n",
       " (array([[0.1717803]]), 6),\n",
       " (array([[0.16625304]]), 6),\n",
       " (array([[0.16625304]]), 6),\n",
       " (array([[0.16625304]]), 6),\n",
       " (array([[0.16625304]]), 6),\n",
       " (array([[0.16013758]]), 1),\n",
       " (array([[0.16013758]]), 1),\n",
       " (array([[0.16013758]]), 1),\n",
       " (array([[0.16013758]]), 1),\n",
       " (array([[0.16013758]]), 1),\n",
       " (array([[0.16013758]]), 1),\n",
       " (array([[0.15551689]]), 3),\n",
       " (array([[0.15551689]]), 3),\n",
       " (array([[0.15551689]]), 3),\n",
       " (array([[0.15551689]]), 3),\n",
       " (array([[0.15551689]]), 3),\n",
       " (array([[0.15551689]]), 3),\n",
       " (array([[0.15551689]]), 3),\n",
       " (array([[0.15551689]]), 3),\n",
       " (array([[0.14591474]]), 4),\n",
       " (array([[0.14591474]]), 4),\n",
       " (array([[0.14591474]]), 4),\n",
       " (array([[0.14591474]]), 4),\n",
       " (array([[0.14591474]]), 4),\n",
       " (array([[0.14591474]]), 4),\n",
       " (array([[0.14578861]]), 20),\n",
       " (array([[0.14578861]]), 20),\n",
       " (array([[0.14578861]]), 20),\n",
       " (array([[0.14578861]]), 20),\n",
       " (array([[0.14578861]]), 20),\n",
       " (array([[0.14578861]]), 20),\n",
       " (array([[0.14578861]]), 20),\n",
       " (array([[0.14578861]]), 20),\n",
       " (array([[0.14578329]]), 10),\n",
       " (array([[0.14578329]]), 10),\n",
       " (array([[0.14578329]]), 10),\n",
       " (array([[0.14578329]]), 10),\n",
       " (array([[0.14578329]]), 10),\n",
       " (array([[0.14578329]]), 10),\n",
       " (array([[0.14578329]]), 10),\n",
       " (array([[0.14578329]]), 10),\n",
       " (array([[0.14400502]]), 21),\n",
       " (array([[0.14400502]]), 21),\n",
       " (array([[0.14400502]]), 21),\n",
       " (array([[0.14400502]]), 21),\n",
       " (array([[0.14189154]]), 18),\n",
       " (array([[0.14189154]]), 18),\n",
       " (array([[0.14189154]]), 18),\n",
       " (array([[0.14189154]]), 18),\n",
       " (array([[0.14189154]]), 18),\n",
       " (array([[0.14189154]]), 18),\n",
       " (array([[0.14189154]]), 18),\n",
       " (array([[0.14189154]]), 18),\n",
       " (array([[0.14189154]]), 18),\n",
       " (array([[0.14189154]]), 18),\n",
       " (array([[0.14019608]]), 8),\n",
       " (array([[0.13974732]]), 3),\n",
       " (array([[0.13974732]]), 3),\n",
       " (array([[0.13974732]]), 3),\n",
       " (array([[0.13974732]]), 3),\n",
       " (array([[0.13974732]]), 3),\n",
       " (array([[0.13974732]]), 3),\n",
       " (array([[0.13974732]]), 3),\n",
       " (array([[0.13974732]]), 3),\n",
       " (array([[0.13960268]]), 9),\n",
       " (array([[0.13960268]]), 9),\n",
       " (array([[0.13960268]]), 9),\n",
       " (array([[0.13960268]]), 9),\n",
       " (array([[0.13828398]]), 8),\n",
       " (array([[0.13727697]]), 1),\n",
       " (array([[0.13727697]]), 1),\n",
       " (array([[0.13727697]]), 1),\n",
       " (array([[0.13727697]]), 1),\n",
       " (array([[0.13727697]]), 1),\n",
       " (array([[0.13727697]]), 1),\n",
       " (array([[0.13623161]]), 2),\n",
       " (array([[0.13623161]]), 2),\n",
       " (array([[0.13541684]]), 18),\n",
       " (array([[0.13541684]]), 18),\n",
       " (array([[0.13541684]]), 18),\n",
       " (array([[0.13541684]]), 18),\n",
       " (array([[0.13541684]]), 18),\n",
       " (array([[0.13541684]]), 18),\n",
       " (array([[0.13541684]]), 18),\n",
       " (array([[0.13541684]]), 18),\n",
       " (array([[0.13541684]]), 18),\n",
       " (array([[0.13541684]]), 18),\n",
       " (array([[0.13497456]]), 15),\n",
       " (array([[0.13497456]]), 15),\n",
       " (array([[0.13497456]]), 15),\n",
       " (array([[0.13497456]]), 15),\n",
       " (array([[0.13497456]]), 15),\n",
       " (array([[0.13497456]]), 15),\n",
       " (array([[0.13312563]]), 5),\n",
       " (array([[0.13312563]]), 5),\n",
       " (array([[0.13312563]]), 5),\n",
       " (array([[0.13312563]]), 5),\n",
       " (array([[0.13101828]]), 9),\n",
       " (array([[0.13101828]]), 9),\n",
       " (array([[0.13101828]]), 9),\n",
       " (array([[0.13101828]]), 9),\n",
       " (array([[0.13094654]]), 16),\n",
       " (array([[0.13094654]]), 16),\n",
       " (array([[0.13094654]]), 16),\n",
       " (array([[0.13094654]]), 16),\n",
       " (array([[0.13094654]]), 16),\n",
       " (array([[0.13094654]]), 16),\n",
       " (array([[0.13094654]]), 16),\n",
       " (array([[0.13094654]]), 16),\n",
       " (array([[0.13010398]]), 6),\n",
       " (array([[0.13010398]]), 6),\n",
       " (array([[0.13010398]]), 6),\n",
       " (array([[0.13010398]]), 6),\n",
       " (array([[0.12971506]]), 4),\n",
       " (array([[0.12971506]]), 4),\n",
       " (array([[0.12971506]]), 4),\n",
       " (array([[0.12971506]]), 4),\n",
       " (array([[0.12971506]]), 4),\n",
       " (array([[0.12971506]]), 4),\n",
       " (array([[0.12875242]]), 6),\n",
       " (array([[0.12875242]]), 6),\n",
       " (array([[0.12875242]]), 6),\n",
       " (array([[0.12875242]]), 6),\n",
       " (array([[0.12768777]]), 9),\n",
       " (array([[0.12768777]]), 9),\n",
       " (array([[0.12768777]]), 9),\n",
       " (array([[0.12768777]]), 9),\n",
       " (array([[0.12592502]]), 15),\n",
       " (array([[0.12592502]]), 15),\n",
       " (array([[0.12592502]]), 15),\n",
       " (array([[0.12592502]]), 15),\n",
       " (array([[0.12592502]]), 15),\n",
       " (array([[0.12592502]]), 15),\n",
       " (array([[0.12415626]]), 15),\n",
       " (array([[0.12415626]]), 15),\n",
       " (array([[0.12415626]]), 15),\n",
       " (array([[0.12415626]]), 15),\n",
       " (array([[0.12415626]]), 15),\n",
       " (array([[0.12415626]]), 15),\n",
       " (array([[0.12268173]]), 9),\n",
       " (array([[0.12268173]]), 9),\n",
       " (array([[0.12268173]]), 9),\n",
       " (array([[0.12268173]]), 9),\n",
       " (array([[0.12147235]]), 2),\n",
       " (array([[0.12147235]]), 2),\n",
       " (array([[0.11971527]]), 24),\n",
       " (array([[0.11971527]]), 24),\n",
       " (array([[0.11971527]]), 24),\n",
       " (array([[0.11971527]]), 24),\n",
       " (array([[0.11971527]]), 24),\n",
       " (array([[0.11971527]]), 24),\n",
       " (array([[0.11971527]]), 24),\n",
       " (array([[0.11971527]]), 24),\n",
       " (array([[0.11971527]]), 24),\n",
       " (array([[0.11869846]]), 13),\n",
       " (array([[0.11869846]]), 13),\n",
       " (array([[0.11869846]]), 13),\n",
       " (array([[0.11869846]]), 13),\n",
       " (array([[0.11869846]]), 13),\n",
       " (array([[0.11869846]]), 13),\n",
       " (array([[0.11637348]]), 6),\n",
       " (array([[0.11637348]]), 6),\n",
       " (array([[0.11637348]]), 6),\n",
       " (array([[0.11637348]]), 6),\n",
       " (array([[0.11590315]]), 13),\n",
       " (array([[0.11590315]]), 13),\n",
       " (array([[0.11590315]]), 13),\n",
       " (array([[0.11590315]]), 13),\n",
       " (array([[0.11590315]]), 13),\n",
       " (array([[0.11590315]]), 13),\n",
       " (array([[0.11328753]]), 16),\n",
       " (array([[0.11328753]]), 16),\n",
       " (array([[0.11328753]]), 16),\n",
       " (array([[0.11328753]]), 16),\n",
       " (array([[0.11328753]]), 16),\n",
       " (array([[0.11328753]]), 16),\n",
       " (array([[0.11328753]]), 16),\n",
       " (array([[0.11328753]]), 16),\n",
       " (array([[0.11200373]]), 10),\n",
       " (array([[0.11200373]]), 10),\n",
       " (array([[0.11200373]]), 10),\n",
       " (array([[0.11200373]]), 10),\n",
       " (array([[0.11200373]]), 10),\n",
       " (array([[0.11200373]]), 10),\n",
       " (array([[0.11200373]]), 10),\n",
       " (array([[0.11200373]]), 10),\n",
       " (array([[0.11179472]]), 17),\n",
       " (array([[0.11179472]]), 17),\n",
       " (array([[0.11179472]]), 17),\n",
       " (array([[0.11179472]]), 17),\n",
       " (array([[0.11179472]]), 17),\n",
       " (array([[0.1117662]]), 21),\n",
       " (array([[0.1117662]]), 21),\n",
       " (array([[0.1117662]]), 21),\n",
       " (array([[0.1117662]]), 21),\n",
       " (array([[0.11138335]]), 12),\n",
       " (array([[0.11138335]]), 12),\n",
       " (array([[0.11138335]]), 12),\n",
       " (array([[0.11138335]]), 12),\n",
       " (array([[0.1104385]]), 16),\n",
       " (array([[0.1104385]]), 16),\n",
       " (array([[0.1104385]]), 16),\n",
       " (array([[0.1104385]]), 16),\n",
       " (array([[0.1104385]]), 16),\n",
       " (array([[0.1104385]]), 16),\n",
       " (array([[0.1104385]]), 16),\n",
       " (array([[0.1104385]]), 16),\n",
       " (array([[0.11032109]]), 4),\n",
       " (array([[0.11032109]]), 4),\n",
       " (array([[0.11032109]]), 4),\n",
       " (array([[0.11032109]]), 4),\n",
       " (array([[0.11032109]]), 4),\n",
       " (array([[0.11032109]]), 4),\n",
       " (array([[0.11000713]]), 1),\n",
       " (array([[0.11000713]]), 1),\n",
       " (array([[0.11000713]]), 1),\n",
       " (array([[0.11000713]]), 1),\n",
       " (array([[0.11000713]]), 1),\n",
       " (array([[0.11000713]]), 1),\n",
       " (array([[0.10858929]]), 13),\n",
       " (array([[0.10858929]]), 13),\n",
       " (array([[0.10858929]]), 13),\n",
       " (array([[0.10858929]]), 13),\n",
       " (array([[0.10858929]]), 13),\n",
       " (array([[0.10858929]]), 13),\n",
       " (array([[0.10847563]]), 24),\n",
       " (array([[0.10847563]]), 24),\n",
       " (array([[0.10847563]]), 24),\n",
       " (array([[0.10847563]]), 24),\n",
       " (array([[0.10847563]]), 24),\n",
       " (array([[0.10847563]]), 24),\n",
       " (array([[0.10847563]]), 24),\n",
       " (array([[0.10847563]]), 24),\n",
       " (array([[0.10847563]]), 24),\n",
       " (array([[0.10815626]]), 13),\n",
       " (array([[0.10815626]]), 13),\n",
       " (array([[0.10815626]]), 13),\n",
       " (array([[0.10815626]]), 13),\n",
       " (array([[0.10815626]]), 13),\n",
       " (array([[0.10815626]]), 13),\n",
       " (array([[0.10813784]]), 23),\n",
       " (array([[0.10813784]]), 23),\n",
       " (array([[0.10813784]]), 23),\n",
       " (array([[0.10813784]]), 23),\n",
       " (array([[0.10813784]]), 23),\n",
       " (array([[0.10813784]]), 23),\n",
       " (array([[0.10813784]]), 23),\n",
       " (array([[0.10813784]]), 23),\n",
       " (array([[0.10813784]]), 23),\n",
       " (array([[0.10813784]]), 23),\n",
       " (array([[0.10696337]]), 18),\n",
       " (array([[0.10696337]]), 18),\n",
       " (array([[0.10696337]]), 18),\n",
       " (array([[0.10696337]]), 18),\n",
       " (array([[0.10696337]]), 18),\n",
       " (array([[0.10696337]]), 18),\n",
       " (array([[0.10696337]]), 18),\n",
       " (array([[0.10696337]]), 18),\n",
       " (array([[0.10696337]]), 18),\n",
       " (array([[0.10696337]]), 18),\n",
       " (array([[0.10687717]]), 2),\n",
       " (array([[0.10687717]]), 2),\n",
       " (array([[0.10649787]]), 2),\n",
       " (array([[0.10649787]]), 2),\n",
       " (array([[0.10628888]]), 15),\n",
       " (array([[0.10628888]]), 15),\n",
       " (array([[0.10628888]]), 15),\n",
       " (array([[0.10628888]]), 15),\n",
       " (array([[0.10628888]]), 15),\n",
       " (array([[0.10628888]]), 15),\n",
       " (array([[0.10434099]]), 18),\n",
       " (array([[0.10434099]]), 18),\n",
       " (array([[0.10434099]]), 18),\n",
       " (array([[0.10434099]]), 18),\n",
       " (array([[0.10434099]]), 18),\n",
       " (array([[0.10434099]]), 18),\n",
       " (array([[0.10434099]]), 18),\n",
       " (array([[0.10434099]]), 18),\n",
       " (array([[0.10434099]]), 18),\n",
       " (array([[0.10434099]]), 18),\n",
       " (array([[0.10364461]]), 0),\n",
       " (array([[0.10364461]]), 0),\n",
       " (array([[0.10330955]]), 12),\n",
       " (array([[0.10330955]]), 12),\n",
       " (array([[0.10330955]]), 12),\n",
       " (array([[0.10330955]]), 12),\n",
       " (array([[0.10286779]]), 6),\n",
       " (array([[0.10286779]]), 6),\n",
       " (array([[0.10286779]]), 6),\n",
       " (array([[0.10286779]]), 6),\n",
       " (array([[0.10275142]]), 21),\n",
       " (array([[0.10275142]]), 21),\n",
       " (array([[0.10275142]]), 21),\n",
       " (array([[0.10275142]]), 21),\n",
       " (array([[0.1010258]]), 3),\n",
       " (array([[0.1010258]]), 3),\n",
       " (array([[0.1010258]]), 3),\n",
       " (array([[0.1010258]]), 3),\n",
       " (array([[0.1010258]]), 3),\n",
       " (array([[0.1010258]]), 3),\n",
       " (array([[0.1010258]]), 3),\n",
       " (array([[0.1010258]]), 3),\n",
       " (array([[0.1006042]]), 5),\n",
       " (array([[0.1006042]]), 5),\n",
       " (array([[0.1006042]]), 5),\n",
       " (array([[0.1006042]]), 5),\n",
       " (array([[0.10058829]]), 3),\n",
       " (array([[0.10058829]]), 3),\n",
       " (array([[0.10058829]]), 3),\n",
       " (array([[0.10058829]]), 3),\n",
       " (array([[0.10058829]]), 3),\n",
       " (array([[0.10058829]]), 3),\n",
       " (array([[0.10058829]]), 3),\n",
       " (array([[0.10058829]]), 3),\n",
       " (array([[0.10043654]]), 22),\n",
       " (array([[0.10043654]]), 22),\n",
       " (array([[0.10043654]]), 22),\n",
       " (array([[0.10043654]]), 22),\n",
       " (array([[0.10043654]]), 22),\n",
       " (array([[0.10043654]]), 22),\n",
       " (array([[0.10043654]]), 22),\n",
       " (array([[0.10043654]]), 22),\n",
       " (array([[0.09901738]]), 11),\n",
       " (array([[0.09901738]]), 11),\n",
       " (array([[0.09901738]]), 11),\n",
       " (array([[0.09901738]]), 11),\n",
       " (array([[0.09901738]]), 11),\n",
       " (array([[0.09901738]]), 11),\n",
       " (array([[0.09867179]]), 13),\n",
       " (array([[0.09867179]]), 13),\n",
       " (array([[0.09867179]]), 13),\n",
       " (array([[0.09867179]]), 13),\n",
       " (array([[0.09867179]]), 13),\n",
       " (array([[0.09867179]]), 13),\n",
       " (array([[0.09851084]]), 19),\n",
       " (array([[0.09851084]]), 19),\n",
       " (array([[0.09851084]]), 19),\n",
       " (array([[0.09851084]]), 19),\n",
       " (array([[0.09851084]]), 19),\n",
       " (array([[0.09851084]]), 19),\n",
       " (array([[0.09851084]]), 19),\n",
       " (array([[0.09851084]]), 19),\n",
       " (array([[0.09851084]]), 19),\n",
       " (array([[0.09851084]]), 19),\n",
       " (array([[0.09841115]]), 1),\n",
       " (array([[0.09841115]]), 1),\n",
       " (array([[0.09841115]]), 1),\n",
       " (array([[0.09841115]]), 1),\n",
       " (array([[0.09841115]]), 1),\n",
       " (array([[0.09841115]]), 1),\n",
       " (array([[0.09823044]]), 2),\n",
       " (array([[0.09823044]]), 2),\n",
       " (array([[0.09823044]]), 2),\n",
       " (array([[0.09823044]]), 2),\n",
       " (array([[0.09823044]]), 2),\n",
       " (array([[0.09823044]]), 2),\n",
       " (array([[0.09823044]]), 2),\n",
       " (array([[0.09823044]]), 2),\n",
       " (array([[0.09817426]]), 7),\n",
       " (array([[0.09817426]]), 7),\n",
       " (array([[0.09817426]]), 7),\n",
       " (array([[0.09803334]]), 14),\n",
       " (array([[0.09803334]]), 14),\n",
       " (array([[0.09803334]]), 14),\n",
       " (array([[0.09803334]]), 14),\n",
       " (array([[0.09803334]]), 14),\n",
       " (array([[0.09783996]]), 8),\n",
       " (array([[0.0978387]]), 6),\n",
       " (array([[0.0978387]]), 6),\n",
       " (array([[0.0978387]]), 6),\n",
       " (array([[0.0978387]]), 6),\n",
       " (array([[0.09758207]]), 7),\n",
       " (array([[0.09758207]]), 7),\n",
       " (array([[0.09758207]]), 7),\n",
       " (array([[0.09726865]]), 8),\n",
       " (array([[0.09726865]]), 8),\n",
       " (array([[0.09726865]]), 8),\n",
       " (array([[0.09726865]]), 8),\n",
       " (array([[0.09726865]]), 8),\n",
       " (array([[0.09726865]]), 8),\n",
       " (array([[0.09726865]]), 8),\n",
       " (array([[0.09726865]]), 8),\n",
       " (array([[0.09726865]]), 8),\n",
       " (array([[0.09726865]]), 8),\n",
       " (array([[0.09726865]]), 8),\n",
       " (array([[0.09726865]]), 8),\n",
       " (array([[0.09726865]]), 8),\n",
       " (array([[0.09726865]]), 8),\n",
       " (array([[0.09726865]]), 8),\n",
       " (array([[0.09726865]]), 8),\n",
       " (array([[0.09726865]]), 8),\n",
       " (array([[0.09709415]]), 14),\n",
       " (array([[0.09709415]]), 14),\n",
       " (array([[0.09709415]]), 14),\n",
       " (array([[0.09709415]]), 14),\n",
       " (array([[0.09709415]]), 14),\n",
       " (array([[0.09591418]]), 5),\n",
       " (array([[0.09591418]]), 5),\n",
       " (array([[0.09591418]]), 5),\n",
       " (array([[0.09591418]]), 5),\n",
       " (array([[0.09579542]]), 1),\n",
       " (array([[0.09579542]]), 1),\n",
       " (array([[0.09579542]]), 1),\n",
       " (array([[0.09579542]]), 1),\n",
       " (array([[0.09579542]]), 1),\n",
       " (array([[0.09579542]]), 1),\n",
       " (array([[0.09546385]]), 12),\n",
       " (array([[0.09546385]]), 12),\n",
       " (array([[0.09546385]]), 12),\n",
       " (array([[0.09546385]]), 12),\n",
       " (array([[0.0953845]]), 2),\n",
       " (array([[0.0953845]]), 2),\n",
       " (array([[0.0953845]]), 2),\n",
       " (array([[0.0953845]]), 2),\n",
       " (array([[0.0953845]]), 2),\n",
       " (array([[0.0953845]]), 2),\n",
       " (array([[0.0953845]]), 2),\n",
       " (array([[0.0953845]]), 2),\n",
       " (array([[0.09368953]]), 23),\n",
       " (array([[0.09368953]]), 23),\n",
       " (array([[0.09368953]]), 23),\n",
       " (array([[0.09368953]]), 23),\n",
       " (array([[0.09368953]]), 23),\n",
       " (array([[0.09368953]]), 23),\n",
       " (array([[0.09368953]]), 23),\n",
       " (array([[0.09368953]]), 23),\n",
       " (array([[0.09368953]]), 23),\n",
       " (array([[0.09368953]]), 23),\n",
       " (array([[0.09341116]]), 5),\n",
       " (array([[0.09341116]]), 5),\n",
       " (array([[0.09341116]]), 5),\n",
       " (array([[0.09341116]]), 5),\n",
       " (array([[0.09312917]]), 7),\n",
       " (array([[0.09312917]]), 7),\n",
       " (array([[0.09312917]]), 7),\n",
       " (array([[0.09282015]]), 4),\n",
       " (array([[0.09282015]]), 4),\n",
       " (array([[0.09196075]]), 9),\n",
       " (array([[0.09196075]]), 9),\n",
       " (array([[0.09196075]]), 9),\n",
       " (array([[0.09196075]]), 9),\n",
       " (array([[0.09162866]]), 20),\n",
       " (array([[0.09162866]]), 20),\n",
       " (array([[0.09162866]]), 20),\n",
       " (array([[0.09162866]]), 20),\n",
       " (array([[0.09162866]]), 20),\n",
       " (array([[0.09162866]]), 20),\n",
       " (array([[0.09162866]]), 20),\n",
       " (array([[0.09162866]]), 20),\n",
       " (array([[0.08855681]]), 15),\n",
       " (array([[0.08855681]]), 15),\n",
       " (array([[0.08855681]]), 15),\n",
       " (array([[0.08855681]]), 15),\n",
       " (array([[0.08855681]]), 15),\n",
       " (array([[0.08855681]]), 15),\n",
       " (array([[0.08829544]]), 10),\n",
       " (array([[0.08829544]]), 10),\n",
       " (array([[0.08829544]]), 10),\n",
       " (array([[0.08829544]]), 10),\n",
       " (array([[0.08829544]]), 10),\n",
       " (array([[0.08829544]]), 10),\n",
       " (array([[0.08829544]]), 10),\n",
       " (array([[0.08829544]]), 10),\n",
       " (array([[0.08751729]]), 7),\n",
       " (array([[0.08751729]]), 7),\n",
       " (array([[0.08751729]]), 7),\n",
       " (array([[0.08706315]]), 15),\n",
       " (array([[0.08706315]]), 15),\n",
       " (array([[0.08706315]]), 15),\n",
       " (array([[0.08706315]]), 15),\n",
       " (array([[0.08706315]]), 15),\n",
       " (array([[0.08706315]]), 15),\n",
       " (array([[0.08681563]]), 6),\n",
       " (array([[0.08681563]]), 6),\n",
       " (array([[0.08681563]]), 6),\n",
       " (array([[0.08681563]]), 6),\n",
       " (array([[0.08680955]]), 21),\n",
       " (array([[0.08680955]]), 21),\n",
       " (array([[0.08680955]]), 21),\n",
       " (array([[0.08680955]]), 21),\n",
       " (array([[0.08627657]]), 8),\n",
       " (array([[0.08627657]]), 8),\n",
       " (array([[0.08627657]]), 8),\n",
       " (array([[0.08627657]]), 8),\n",
       " (array([[0.08627657]]), 8),\n",
       " (array([[0.08627657]]), 8),\n",
       " (array([[0.08627657]]), 8),\n",
       " (array([[0.08627657]]), 8),\n",
       " (array([[0.08627657]]), 8),\n",
       " (array([[0.08627657]]), 8),\n",
       " (array([[0.08627657]]), 8),\n",
       " (array([[0.08627657]]), 8),\n",
       " (array([[0.08627657]]), 8),\n",
       " (array([[0.08627657]]), 8),\n",
       " (array([[0.08627657]]), 8),\n",
       " (array([[0.08627657]]), 8),\n",
       " (array([[0.08627657]]), 8),\n",
       " (array([[0.08537017]]), 7),\n",
       " (array([[0.08537017]]), 7),\n",
       " (array([[0.08537017]]), 7),\n",
       " (array([[0.08503756]]), 12),\n",
       " (array([[0.08503756]]), 12),\n",
       " (array([[0.08503756]]), 12),\n",
       " (array([[0.08503756]]), 12),\n",
       " (array([[0.08395754]]), 15),\n",
       " (array([[0.08395754]]), 15),\n",
       " (array([[0.08395754]]), 15),\n",
       " (array([[0.08395754]]), 15),\n",
       " (array([[0.08395754]]), 15),\n",
       " (array([[0.08395754]]), 15),\n",
       " (array([[0.08370553]]), 7),\n",
       " (array([[0.08370553]]), 7),\n",
       " (array([[0.08370553]]), 7),\n",
       " (array([[0.08366787]]), 19),\n",
       " (array([[0.08366787]]), 19),\n",
       " (array([[0.08366787]]), 19),\n",
       " (array([[0.08366787]]), 19),\n",
       " (array([[0.08366787]]), 19),\n",
       " (array([[0.08366787]]), 19),\n",
       " (array([[0.08366787]]), 19),\n",
       " (array([[0.08366787]]), 19),\n",
       " (array([[0.08366787]]), 19),\n",
       " (array([[0.08366787]]), 19),\n",
       " (array([[0.08341281]]), 9),\n",
       " (array([[0.08341281]]), 9),\n",
       " (array([[0.08341281]]), 9),\n",
       " (array([[0.08341281]]), 9),\n",
       " (array([[0.08315959]]), 3),\n",
       " (array([[0.08315959]]), 3),\n",
       " (array([[0.08315959]]), 3),\n",
       " (array([[0.08315959]]), 3),\n",
       " (array([[0.08315959]]), 3),\n",
       " (array([[0.08315959]]), 3),\n",
       " (array([[0.08315959]]), 3),\n",
       " (array([[0.08315959]]), 3),\n",
       " (array([[0.08311021]]), 8),\n",
       " (array([[0.08311021]]), 8),\n",
       " (array([[0.08311021]]), 8),\n",
       " (array([[0.08311021]]), 8),\n",
       " (array([[0.08311021]]), 8),\n",
       " (array([[0.08311021]]), 8),\n",
       " (array([[0.08311021]]), 8),\n",
       " (array([[0.08311021]]), 8),\n",
       " (array([[0.08311021]]), 8),\n",
       " (array([[0.08311021]]), 8),\n",
       " (array([[0.08311021]]), 8),\n",
       " (array([[0.08311021]]), 8),\n",
       " (array([[0.08311021]]), 8),\n",
       " (array([[0.08311021]]), 8),\n",
       " (array([[0.08311021]]), 8),\n",
       " (array([[0.08311021]]), 8),\n",
       " (array([[0.08311021]]), 8),\n",
       " (array([[0.08306956]]), 7),\n",
       " (array([[0.08306956]]), 7),\n",
       " (array([[0.08306956]]), 7),\n",
       " (array([[0.08205216]]), 7),\n",
       " (array([[0.08205216]]), 7),\n",
       " (array([[0.08205216]]), 7),\n",
       " (array([[0.08204503]]), 5),\n",
       " (array([[0.08204503]]), 5),\n",
       " (array([[0.08204503]]), 5),\n",
       " (array([[0.08204503]]), 5),\n",
       " (array([[0.08197775]]), 17),\n",
       " (array([[0.08197775]]), 17),\n",
       " (array([[0.08197775]]), 17),\n",
       " (array([[0.08197775]]), 17),\n",
       " (array([[0.08197775]]), 17),\n",
       " (array([[0.08174847]]), 14),\n",
       " (array([[0.08174847]]), 14),\n",
       " (array([[0.08174847]]), 14),\n",
       " (array([[0.08174847]]), 14),\n",
       " (array([[0.08174847]]), 14),\n",
       " (array([[0.08169455]]), 21),\n",
       " (array([[0.08169455]]), 21),\n",
       " (array([[0.08169455]]), 21),\n",
       " (array([[0.08169455]]), 21),\n",
       " (array([[0.08153422]]), 10),\n",
       " (array([[0.08153422]]), 10),\n",
       " (array([[0.08153422]]), 10),\n",
       " (array([[0.08153422]]), 10),\n",
       " (array([[0.08153422]]), 10),\n",
       " (array([[0.08153422]]), 10),\n",
       " (array([[0.08153422]]), 10),\n",
       " (array([[0.08153422]]), 10),\n",
       " (array([[0.0814612]]), 21),\n",
       " (array([[0.0814612]]), 21),\n",
       " (array([[0.0814612]]), 21),\n",
       " (array([[0.0814612]]), 21),\n",
       " (array([[0.08011548]]), 16),\n",
       " (array([[0.08011548]]), 16),\n",
       " (array([[0.08011548]]), 16),\n",
       " (array([[0.08011548]]), 16),\n",
       " (array([[0.08011548]]), 16),\n",
       " (array([[0.08011548]]), 16),\n",
       " (array([[0.08011548]]), 16),\n",
       " (array([[0.08011548]]), 16),\n",
       " (array([[0.079649]]), 13),\n",
       " (array([[0.079649]]), 13),\n",
       " (array([[0.079649]]), 13),\n",
       " (array([[0.079649]]), 13),\n",
       " (array([[0.079649]]), 13),\n",
       " (array([[0.079649]]), 13),\n",
       " (array([[0.07892072]]), 7),\n",
       " (array([[0.07892072]]), 7),\n",
       " (array([[0.07892072]]), 7),\n",
       " (array([[0.07868944]]), 8),\n",
       " (array([[0.07853587]]), 14),\n",
       " (array([[0.07853587]]), 14),\n",
       " (array([[0.07853587]]), 14),\n",
       " (array([[0.07853587]]), 14),\n",
       " (array([[0.07853587]]), 14),\n",
       " (array([[0.07746057]]), 23),\n",
       " (array([[0.07746057]]), 23),\n",
       " (array([[0.07746057]]), 23),\n",
       " (array([[0.07746057]]), 23),\n",
       " (array([[0.07746057]]), 23),\n",
       " (array([[0.07746057]]), 23),\n",
       " (array([[0.07746057]]), 23),\n",
       " (array([[0.07746057]]), 23),\n",
       " (array([[0.07746057]]), 23),\n",
       " (array([[0.07746057]]), 23),\n",
       " (array([[0.07725119]]), 19),\n",
       " (array([[0.07725119]]), 19),\n",
       " (array([[0.07725119]]), 19),\n",
       " (array([[0.07725119]]), 19),\n",
       " (array([[0.07725119]]), 19),\n",
       " (array([[0.07725119]]), 19),\n",
       " (array([[0.07725119]]), 19),\n",
       " (array([[0.07725119]]), 19),\n",
       " (array([[0.07725119]]), 19),\n",
       " (array([[0.07725119]]), 19),\n",
       " (array([[0.07718182]]), 20),\n",
       " (array([[0.07718182]]), 20),\n",
       " (array([[0.07718182]]), 20),\n",
       " (array([[0.07718182]]), 20),\n",
       " (array([[0.07718182]]), 20),\n",
       " (array([[0.07718182]]), 20),\n",
       " (array([[0.07718182]]), 20),\n",
       " (array([[0.07718182]]), 20),\n",
       " (array([[0.07683715]]), 15),\n",
       " (array([[0.07683715]]), 15),\n",
       " (array([[0.07683715]]), 15),\n",
       " (array([[0.07683715]]), 15),\n",
       " (array([[0.07683715]]), 15),\n",
       " (array([[0.07683715]]), 15),\n",
       " (array([[0.07598683]]), 13),\n",
       " (array([[0.07598683]]), 13),\n",
       " (array([[0.07598683]]), 13),\n",
       " (array([[0.07598683]]), 13),\n",
       " (array([[0.07598683]]), 13),\n",
       " (array([[0.07598683]]), 13),\n",
       " (array([[0.07380749]]), 20),\n",
       " (array([[0.07380749]]), 20),\n",
       " (array([[0.07380749]]), 20),\n",
       " (array([[0.07380749]]), 20),\n",
       " (array([[0.07380749]]), 20),\n",
       " (array([[0.07380749]]), 20),\n",
       " (array([[0.07380749]]), 20),\n",
       " (array([[0.07380749]]), 20),\n",
       " (array([[0.07305243]]), 6),\n",
       " (array([[0.07305243]]), 6),\n",
       " (array([[0.07305243]]), 6),\n",
       " (array([[0.07305243]]), 6),\n",
       " (array([[0.07290712]]), 4),\n",
       " (array([[0.07290712]]), 4),\n",
       " (array([[0.07290712]]), 4),\n",
       " (array([[0.07290712]]), 4),\n",
       " (array([[0.07290712]]), 4),\n",
       " (array([[0.07290712]]), 4),\n",
       " (array([[0.07060154]]), 17),\n",
       " (array([[0.07060154]]), 17),\n",
       " (array([[0.07060154]]), 17),\n",
       " (array([[0.07060154]]), 17),\n",
       " (array([[0.07060154]]), 17),\n",
       " (array([[0.07014417]]), 11),\n",
       " (array([[0.07014417]]), 11),\n",
       " (array([[0.07014417]]), 11),\n",
       " (array([[0.07014417]]), 11),\n",
       " (array([[0.07014417]]), 11),\n",
       " (array([[0.07014417]]), 11),\n",
       " (array([[0.06923819]]), 15),\n",
       " (array([[0.06923819]]), 15),\n",
       " (array([[0.06923819]]), 15),\n",
       " (array([[0.06923819]]), 15),\n",
       " (array([[0.06923819]]), 15),\n",
       " (array([[0.06923819]]), 15),\n",
       " (array([[0.06902366]]), 17),\n",
       " (array([[0.06902366]]), 17),\n",
       " (array([[0.06902366]]), 17),\n",
       " (array([[0.06902366]]), 17),\n",
       " (array([[0.06902366]]), 17),\n",
       " (array([[0.06838308]]), 17),\n",
       " (array([[0.06838308]]), 17),\n",
       " (array([[0.06838308]]), 17),\n",
       " (array([[0.06838308]]), 17),\n",
       " (array([[0.06838308]]), 17),\n",
       " (array([[0.06831466]]), 23),\n",
       " (array([[0.06831466]]), 23),\n",
       " (array([[0.06831466]]), 23),\n",
       " (array([[0.06831466]]), 23),\n",
       " (array([[0.06831466]]), 23),\n",
       " (array([[0.06831466]]), 23),\n",
       " (array([[0.06831466]]), 23),\n",
       " (array([[0.06831466]]), 23),\n",
       " (array([[0.06831466]]), 23),\n",
       " (array([[0.06831466]]), 23),\n",
       " (array([[0.06813987]]), 20),\n",
       " (array([[0.06813987]]), 20),\n",
       " (array([[0.06813987]]), 20),\n",
       " (array([[0.06813987]]), 20),\n",
       " (array([[0.06813987]]), 20),\n",
       " (array([[0.06813987]]), 20),\n",
       " (array([[0.06813987]]), 20),\n",
       " (array([[0.06813987]]), 20),\n",
       " (array([[0.06766804]]), 20),\n",
       " (array([[0.06766804]]), 20),\n",
       " (array([[0.06766804]]), 20),\n",
       " (array([[0.06766804]]), 20),\n",
       " (array([[0.06766804]]), 20),\n",
       " (array([[0.06766804]]), 20),\n",
       " (array([[0.06766804]]), 20),\n",
       " (array([[0.06766804]]), 20),\n",
       " (array([[0.06756097]]), 0),\n",
       " (array([[0.06756097]]), 0),\n",
       " (array([[0.06754278]]), 23),\n",
       " (array([[0.06754278]]), 23),\n",
       " (array([[0.06754278]]), 23),\n",
       " (array([[0.06754278]]), 23),\n",
       " (array([[0.06754278]]), 23),\n",
       " (array([[0.06754278]]), 23),\n",
       " (array([[0.06754278]]), 23),\n",
       " (array([[0.06754278]]), 23),\n",
       " (array([[0.06754278]]), 23),\n",
       " (array([[0.06754278]]), 23),\n",
       " (array([[0.06750055]]), 7),\n",
       " (array([[0.06750055]]), 7),\n",
       " (array([[0.06750055]]), 7),\n",
       " (array([[0.06613042]]), 7),\n",
       " (array([[0.06613042]]), 7),\n",
       " (array([[0.06613042]]), 7),\n",
       " (array([[0.06435399]]), 4),\n",
       " (array([[0.06435399]]), 4),\n",
       " (array([[0.06416533]]), 16),\n",
       " (array([[0.06416533]]), 16),\n",
       " (array([[0.06416533]]), 16),\n",
       " (array([[0.06416533]]), 16),\n",
       " (array([[0.06416533]]), 16),\n",
       " (array([[0.06416533]]), 16),\n",
       " (array([[0.06416533]]), 16),\n",
       " (array([[0.06416533]]), 16),\n",
       " (array([[0.06370182]]), 2),\n",
       " (array([[0.06370182]]), 2),\n",
       " (array([[0.06344664]]), 23),\n",
       " (array([[0.06344664]]), 23),\n",
       " (array([[0.06344664]]), 23),\n",
       " (array([[0.06344664]]), 23),\n",
       " (array([[0.06344664]]), 23),\n",
       " (array([[0.06344664]]), 23),\n",
       " (array([[0.06344664]]), 23),\n",
       " (array([[0.06344664]]), 23),\n",
       " (array([[0.06344664]]), 23),\n",
       " (array([[0.06344664]]), 23),\n",
       " (array([[0.06264088]]), 23),\n",
       " (array([[0.06264088]]), 23),\n",
       " (array([[0.06264088]]), 23),\n",
       " (array([[0.06264088]]), 23),\n",
       " (array([[0.06264088]]), 23),\n",
       " (array([[0.06264088]]), 23),\n",
       " (array([[0.06264088]]), 23),\n",
       " (array([[0.06264088]]), 23),\n",
       " (array([[0.06264088]]), 23),\n",
       " (array([[0.06264088]]), 23),\n",
       " (array([[0.06190625]]), 15),\n",
       " (array([[0.06190625]]), 15),\n",
       " (array([[0.06190625]]), 15),\n",
       " (array([[0.06190625]]), 15),\n",
       " (array([[0.06190625]]), 15),\n",
       " (array([[0.06190625]]), 15),\n",
       " (array([[0.06190625]]), 15),\n",
       " (array([[0.06190625]]), 15),\n",
       " (array([[0.06190625]]), 15),\n",
       " (array([[0.06190625]]), 15),\n",
       " (array([[0.06190625]]), 15),\n",
       " (array([[0.06190625]]), 15),\n",
       " (array([[0.05987812]]), 22),\n",
       " (array([[0.05987812]]), 22),\n",
       " (array([[0.05987812]]), 22),\n",
       " (array([[0.05987812]]), 22),\n",
       " (array([[0.05987812]]), 22),\n",
       " (array([[0.05987812]]), 22),\n",
       " (array([[0.05987812]]), 22),\n",
       " (array([[0.05987812]]), 22),\n",
       " (array([[0.05962047]]), 22),\n",
       " (array([[0.05962047]]), 22),\n",
       " (array([[0.05962047]]), 22),\n",
       " (array([[0.05962047]]), 22),\n",
       " (array([[0.05962047]]), 22),\n",
       " (array([[0.05962047]]), 22),\n",
       " (array([[0.05962047]]), 22),\n",
       " (array([[0.05962047]]), 22),\n",
       " (array([[0.05892059]]), 22),\n",
       " (array([[0.05892059]]), 22),\n",
       " (array([[0.05892059]]), 22),\n",
       " (array([[0.05892059]]), 22),\n",
       " (array([[0.05892059]]), 22),\n",
       " (array([[0.05892059]]), 22),\n",
       " (array([[0.05892059]]), 22),\n",
       " (array([[0.05892059]]), 22),\n",
       " (array([[0.05784156]]), 6),\n",
       " (array([[0.05784156]]), 6),\n",
       " (array([[0.05784156]]), 6),\n",
       " (array([[0.05784156]]), 6),\n",
       " (array([[0.05745342]]), 15),\n",
       " (array([[0.05745342]]), 15),\n",
       " (array([[0.05745342]]), 15),\n",
       " (array([[0.05745342]]), 15),\n",
       " (array([[0.05745342]]), 15),\n",
       " (array([[0.05745342]]), 15),\n",
       " (array([[0.05544461]]), 10),\n",
       " (array([[0.05544461]]), 10),\n",
       " (array([[0.05544461]]), 10),\n",
       " (array([[0.05544461]]), 10),\n",
       " (array([[0.05544461]]), 10),\n",
       " (array([[0.05544461]]), 10),\n",
       " (array([[0.05544461]]), 10),\n",
       " (array([[0.05544461]]), 10),\n",
       " (array([[0.05404185]]), 15),\n",
       " (array([[0.05404185]]), 15),\n",
       " (array([[0.05404185]]), 15),\n",
       " (array([[0.05404185]]), 15),\n",
       " (array([[0.05404185]]), 15),\n",
       " (array([[0.05404185]]), 15),\n",
       " (array([[0.05173708]]), 11),\n",
       " (array([[0.05173708]]), 11),\n",
       " (array([[0.05173708]]), 11),\n",
       " (array([[0.05173708]]), 11),\n",
       " (array([[0.05173708]]), 11),\n",
       " (array([[0.05173708]]), 11),\n",
       " (array([[0.05028285]]), 14),\n",
       " (array([[0.05028285]]), 14),\n",
       " (array([[0.05028285]]), 14),\n",
       " (array([[0.05028285]]), 14),\n",
       " (array([[0.05028285]]), 14),\n",
       " (array([[0.04923083]]), 11),\n",
       " (array([[0.04923083]]), 11),\n",
       " (array([[0.04923083]]), 11),\n",
       " (array([[0.04923083]]), 11),\n",
       " (array([[0.04923083]]), 11),\n",
       " (array([[0.04923083]]), 11),\n",
       " (array([[0.04555698]]), 11),\n",
       " (array([[0.04555698]]), 11),\n",
       " (array([[0.04555698]]), 11),\n",
       " (array([[0.04555698]]), 11),\n",
       " (array([[0.04555698]]), 11),\n",
       " (array([[0.04555698]]), 11),\n",
       " (array([[0.04322667]]), 0),\n",
       " (array([[0.04322667]]), 0),\n",
       " (array([[0.04320077]]), 0),\n",
       " (array([[0.04320077]]), 0),\n",
       " (array([[0.04190392]]), 12),\n",
       " (array([[0.04190392]]), 12),\n",
       " (array([[0.04190392]]), 12),\n",
       " (array([[0.04190392]]), 12),\n",
       " (array([[0.04094977]]), 14),\n",
       " (array([[0.04094977]]), 14),\n",
       " (array([[0.04094977]]), 14),\n",
       " (array([[0.04094977]]), 14),\n",
       " (array([[0.04094977]]), 14),\n",
       " (array([[0.03820588]]), 15),\n",
       " (array([[0.03820588]]), 15),\n",
       " (array([[0.03820588]]), 15),\n",
       " (array([[0.03820588]]), 15),\n",
       " (array([[0.03820588]]), 15),\n",
       " (array([[0.03820588]]), 15),\n",
       " (array([[0.0378435]]), 0),\n",
       " (array([[0.0378435]]), 0),\n",
       " (array([[0.03768677]]), 12),\n",
       " (array([[0.03768677]]), 12),\n",
       " (array([[0.03768677]]), 12),\n",
       " (array([[0.03768677]]), 12),\n",
       " (array([[0.03631038]]), 0),\n",
       " (array([[0.03631038]]), 0),\n",
       " (array([[0.03421838]]), 22),\n",
       " (array([[0.03421838]]), 22),\n",
       " (array([[0.03421838]]), 22),\n",
       " (array([[0.03421838]]), 22),\n",
       " (array([[0.03421838]]), 22),\n",
       " (array([[0.03421838]]), 22),\n",
       " (array([[0.03421838]]), 22),\n",
       " (array([[0.03421838]]), 22),\n",
       " (array([[0.03401845]]), 12),\n",
       " (array([[0.03401845]]), 12),\n",
       " (array([[0.03401845]]), 12),\n",
       " (array([[0.03401845]]), 12),\n",
       " (array([[0.03373551]]), 0),\n",
       " (array([[0.03373551]]), 0),\n",
       " (array([[0.0331845]]), 1),\n",
       " (array([[0.0331845]]), 1),\n",
       " (array([[0.0331845]]), 1),\n",
       " (array([[0.0331845]]), 1),\n",
       " (array([[0.0331845]]), 1),\n",
       " (array([[0.0331845]]), 1),\n",
       " (array([[0.0304334]]), 5),\n",
       " (array([[0.0304334]]), 5),\n",
       " (array([[0.0304334]]), 5),\n",
       " (array([[0.0304334]]), 5),\n",
       " (array([[0.03007]]), 0),\n",
       " (array([[0.03007]]), 0),\n",
       " (array([[0.01413643]]), 0),\n",
       " (array([[0.01413643]]), 0),\n",
       " (array([[0.00972124]]), 12),\n",
       " (array([[0.00972124]]), 12),\n",
       " (array([[0.00972124]]), 12),\n",
       " (array([[0.00972124]]), 12),\n",
       " (array([[0.00746898]]), 12),\n",
       " (array([[0.00746898]]), 12),\n",
       " (array([[0.00746898]]), 12),\n",
       " (array([[0.00746898]]), 12),\n",
       " (array([[0.00746898]]), 12),\n",
       " (array([[0.00746898]]), 12),\n",
       " (array([[0.00746898]]), 12),\n",
       " (array([[0.00746898]]), 12),\n",
       " (array([[0.00734833]]), 12),\n",
       " (array([[0.00734833]]), 12),\n",
       " (array([[0.00734833]]), 12),\n",
       " (array([[0.00734833]]), 12),\n",
       " (array([[0.00537592]]), 0),\n",
       " (array([[0.00537592]]), 0)]"
      ]
     },
     "execution_count": 92,
     "metadata": {},
     "output_type": "execute_result"
    }
   ],
   "source": [
    "similarity"
   ]
  },
  {
   "cell_type": "code",
   "execution_count": 85,
   "metadata": {},
   "outputs": [],
   "source": [
    "i=vi.predict(idf)"
   ]
  },
  {
   "cell_type": "code",
   "execution_count": 86,
   "metadata": {},
   "outputs": [
    {
     "data": {
      "text/plain": [
       "array(['Data Science'], dtype=object)"
      ]
     },
     "execution_count": 86,
     "metadata": {},
     "output_type": "execute_result"
    }
   ],
   "source": [
    "le.inverse_transform(i)"
   ]
  },
  {
   "cell_type": "code",
   "execution_count": 93,
   "metadata": {},
   "outputs": [],
   "source": [
    "import pickle"
   ]
  },
  {
   "cell_type": "code",
   "execution_count": null,
   "metadata": {},
   "outputs": [],
   "source": []
  }
 ],
 "metadata": {
  "kernelspec": {
   "display_name": "Python 3",
   "language": "python",
   "name": "python3"
  },
  "language_info": {
   "codemirror_mode": {
    "name": "ipython",
    "version": 3
   },
   "file_extension": ".py",
   "mimetype": "text/x-python",
   "name": "python",
   "nbconvert_exporter": "python",
   "pygments_lexer": "ipython3",
   "version": "3.7.4"
  }
 },
 "nbformat": 4,
 "nbformat_minor": 4
}
